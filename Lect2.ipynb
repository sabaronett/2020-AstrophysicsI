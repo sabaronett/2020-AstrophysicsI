{
 "cells": [
  {
   "cell_type": "markdown",
   "metadata": {},
   "source": [
    "# Radiative Transfer and Stars"
   ]
  },
  {
   "cell_type": "markdown",
   "metadata": {},
   "source": [
    "### ALMA observed a face-on protoplanetary disk which is in a star forming region 100 pc away from us. The measured flux is 100 mJy at 1mm. Assuming the disk temperature is 20 K, and the radio emission from the disk is due to thermal radiation, what is the total dust mass in this disk? We also assume that the disk is optically thin along our line of sight and the opacity is due to 1 cm dust's geometrical absorption .   (1 Jy=1e-23 erg/s/cm$^2$/Hz)\n"
   ]
  },
  {
   "cell_type": "code",
   "execution_count": 5,
   "metadata": {},
   "outputs": [],
   "source": [
    "# cgs unit, length unit is cm, mass unit is gram, time unit is second\n",
    "import numpy as np\n",
    "\n",
    "sigmacont=5.67051e-5\n",
    "acont=7.5657e-15\n",
    "ev=1.602e-12\n",
    "hcont=6.625e-27\n",
    "ccont=3.e10\n",
    "kcont=1.381e-16\n",
    "rcont=8.314472e7\n",
    "me=9.109e-28\n",
    "Gcont=6.67e-8\n",
    "Msun=1.989e33\n",
    "Mearth=5.972e27\n",
    "Mjupiter=1.898e30\n",
    "Lsun=3.827e33\n",
    "rsun=6.96e10\n",
    "rjupiter=7.149e9\n",
    "rearth=6.371e8\n",
    "au=1.49598e13\n",
    "pc=3.085678e18\n",
    "mh=1.67352e-24\n",
    "yr=365.*24.*3600\n",
    "pi=3.1415926"
   ]
  },
  {
   "cell_type": "code",
   "execution_count": 2,
   "metadata": {},
   "outputs": [],
   "source": [
    "# Step 1, what is the wavelength where the disk's spectrum peaks ? What is the simplified \n",
    "# relationship between the intensity and disk temperature."
   ]
  },
  {
   "cell_type": "markdown",
   "metadata": {},
   "source": [
    "From __Wien's law__:\n",
    "$$\n",
    "\\lambda_{max}T = 0.29 \\quad\\textrm{cm K} \\\\\n",
    "\\lambda_{max} = \\dfrac{0.29}{T} \\quad\\textrm{cm K}\n",
    "$$"
   ]
  },
  {
   "cell_type": "code",
   "execution_count": 3,
   "metadata": {},
   "outputs": [
    {
     "name": "stdout",
     "output_type": "stream",
     "text": [
      "λₘₐₓ = 0.014499999999999999 cm\n"
     ]
    }
   ],
   "source": [
    "T = 20 # temp in K\n",
    "lmax = 0.29/T\n",
    "print('λₘₐₓ =', lmax, 'cm')"
   ]
  },
  {
   "cell_type": "markdown",
   "metadata": {},
   "source": [
    "Simplified relationship between intensity and disk (blackbody) temperature:\n",
    "\n",
    "\\begin{align}\n",
    "I = B = \\dfrac{\\sigma T^4}{\\pi}\n",
    "\\tag{A}\n",
    "\\end{align}"
   ]
  },
  {
   "cell_type": "code",
   "execution_count": 4,
   "metadata": {},
   "outputs": [],
   "source": [
    "# Step 2, When the emission is optically thin, what is the relationship between \n",
    "# the intensity and the optical depth? "
   ]
  },
  {
   "cell_type": "markdown",
   "metadata": {},
   "source": [
    "\\begin{align}\n",
    "I_\\nu = S_\\nu\\tau_\\nu,\n",
    "\\tag{B}\n",
    "\\end{align}\n",
    "\n",
    "where $\\tau_\\nu$ is the _optical depth_, and the _source function_ is\n",
    "\n",
    "\\begin{align}\n",
    "S_\\nu = B_\\nu\n",
    "\\tag{C}\n",
    "\\end{align}\n",
    "\n",
    "for objects in _local thermal equilibrium_ (LTE)."
   ]
  },
  {
   "cell_type": "code",
   "execution_count": 1,
   "metadata": {},
   "outputs": [],
   "source": [
    "# Step 3, What is the opacity of 1 cm dust grains?"
   ]
  },
  {
   "cell_type": "markdown",
   "metadata": {},
   "source": [
    "If $d = 1$ cm, then\n",
    "\n",
    "\\begin{align}\n",
    "\\kappa &= 1/d \\cdot \\textrm{cm}^3/\\textrm{g} \\\\\n",
    "&= 1 \\quad\\textrm{cm}^2/\\textrm{g}\n",
    "\\tag{D}\n",
    "\\end{align}\n"
   ]
  },
  {
   "cell_type": "code",
   "execution_count": null,
   "metadata": {},
   "outputs": [],
   "source": [
    "# Step 4, what is the relationship between flux received by the telescope and the intensity "
   ]
  },
  {
   "cell_type": "markdown",
   "metadata": {},
   "source": [
    "\\begin{align}\n",
    "F = I\\dfrac{A}{d^2},\n",
    "\\tag{E}\n",
    "\\end{align}\n",
    "\n",
    "where $A$ is the cross-sectional area of the disk (face-on), and $d$ is the distance to the disk."
   ]
  },
  {
   "cell_type": "code",
   "execution_count": 6,
   "metadata": {},
   "outputs": [],
   "source": [
    "# Step 5, Use flux and opacity to calculate dust mass=rho*A*L"
   ]
  },
  {
   "cell_type": "markdown",
   "metadata": {},
   "source": [
    "The total dust mass in the disk is\n",
    "\n",
    "\\begin{align}\n",
    "M = \\rho A L,\n",
    "\\tag{F}\n",
    "\\end{align}\n",
    "\n",
    "where $\\rho$, $A$, and $L$ respectively are the density, area, and thickness of the disk.  If the integrated optical depth is $\\alpha L$, where the absorption coefficient $\\alpha = \\rho \\kappa$, then the optical depth is\n",
    "$$\n",
    "\\tau = \\rho \\kappa L.\n",
    "$$\n",
    "\n",
    "Solving for $\\rho$, we find\n",
    "\n",
    "\\begin{align}\n",
    "\\rho = \\dfrac{\\tau}{\\kappa L}.\n",
    "\\tag{G}\n",
    "\\end{align}\n",
    "\n",
    "Substituting Eq. A into E,\n",
    "\n",
    "\\begin{align}\n",
    "F = \\dfrac{\\sigma T^4 A}{\\pi d^2},\n",
    "\\tag{H}\n",
    "\\end{align}\n",
    "\n",
    "and solving for $A$, we find\n",
    "\n",
    "\\begin{align}\n",
    "A = \\dfrac{\\pi d^2 F}{\\sigma T^4}.\n",
    "\\tag{I}\n",
    "\\end{align}\n",
    "\n",
    "Substituting Eqs. G and I into F,\n",
    "\n",
    "\\begin{align}\n",
    "M = \\left( \\dfrac{\\tau}{\\kappa L} \\right) \\left( \\dfrac{\\pi d^2 F}{\\sigma T^4} \\right) L.\n",
    "\\tag{J}\n",
    "\\end{align}\n",
    "\n",
    "But, substituting Eq. C into B, and solving for $\\tau$, we have\n",
    "\n",
    "\\begin{align}\n",
    "I &= B\\tau \\\\\n",
    "\\tau &= \\dfrac{I}{B} \\\\\n",
    "&= \\dfrac{B}{B} \\\\\n",
    "&= 1\n",
    "\\tag{K}\n",
    "\\end{align}\n",
    "\n",
    "where in the second to last step we substituted $I = B$ from Eq. A.  Finally, substituting our results from Step 3 (Eq. D) and Eq. K into J, and canceling the $L$ terms, we arrive at\n",
    "\n",
    "\\begin{align}\n",
    "M = \\dfrac{\\pi d^2 F}{\\sigma T^4}.\n",
    "\\tag{J}\n",
    "\\end{align}\n",
    "\n",
    "Using the values provided, we can calculate the total dust mass in the disk $M$ as follows:"
   ]
  },
  {
   "cell_type": "code",
   "execution_count": 8,
   "metadata": {},
   "outputs": [
    {
     "name": "stdout",
     "output_type": "stream",
     "text": [
      "M = 3.296924259825697e+16 g\n"
     ]
    }
   ],
   "source": [
    "Jy = 1e-23    # jansky or erg/s/cm^2/Hz\n",
    "d = 100*pc    # distance to disk in parsecs\n",
    "T = 20        # temp in kelvin\n",
    "F = 100e-3*Jy # measured flux in mJy\n",
    "M = pi*d**2*F/sigmacont/T**4\n",
    "print('M =', M, 'g')"
   ]
  },
  {
   "cell_type": "markdown",
   "metadata": {},
   "source": [
    "Thus, the total dust mass in the disk is $3.3 \\times 10^{16} \\textrm{ g}$ or $3.3 \\times 10^{13} \\textrm{ kg}$."
   ]
  },
  {
   "cell_type": "markdown",
   "metadata": {},
   "source": [
    "# Homework due Next Monday, Chapter 2, question 1"
   ]
  },
  {
   "cell_type": "code",
   "execution_count": null,
   "metadata": {},
   "outputs": [],
   "source": []
  }
 ],
 "metadata": {
  "kernelspec": {
   "display_name": "Python 3",
   "language": "python",
   "name": "python3"
  },
  "language_info": {
   "codemirror_mode": {
    "name": "ipython",
    "version": 3
   },
   "file_extension": ".py",
   "mimetype": "text/x-python",
   "name": "python",
   "nbconvert_exporter": "python",
   "pygments_lexer": "ipython3",
   "version": "3.8.3"
  },
  "widgets": {
   "application/vnd.jupyter.widget-state+json": {
    "state": {},
    "version_major": 2,
    "version_minor": 0
   }
  }
 },
 "nbformat": 4,
 "nbformat_minor": 4
}
