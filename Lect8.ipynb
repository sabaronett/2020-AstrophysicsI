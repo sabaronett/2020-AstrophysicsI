{
 "cells": [
  {
   "cell_type": "markdown",
   "metadata": {},
   "source": [
    "# Midterm exam on Oct 27th\n",
    "\n",
    "## Chapter 1,2,3,4,5"
   ]
  },
  {
   "cell_type": "code",
   "execution_count": 2,
   "metadata": {},
   "outputs": [],
   "source": [
    "# read in library and constants\n",
    "import numpy as np, os, sys\n",
    "import matplotlib.pylab as p\n",
    "\n",
    "sigmacont=5.67051e-5\n",
    "acont=7.5657e-15\n",
    "ev=1.602e-12\n",
    "hcont=6.62607004e-27\n",
    "ccont=2.99792458e10\n",
    "kcont=1.38064852e-16\n",
    "rcont=8.314472e7\n",
    "me=9.1093837015e-28\n",
    "Gcont=6.67259e-8\n",
    "Msun=1.989e33\n",
    "Mearth=5.972e27\n",
    "Mjupiter=1.898e30\n",
    "Lsun=3.827e33\n",
    "rsun=6.9599e10\n",
    "rjupiter=7.149e9\n",
    "rearth=6.371e8\n",
    "au=1.49598e13\n",
    "pc=3.085678e18\n",
    "mh=1.67352e-24\n",
    "yr=365.2425*24.*3600\n",
    "pi=3.1415926"
   ]
  },
  {
   "cell_type": "code",
   "execution_count": 3,
   "metadata": {},
   "outputs": [
    {
     "name": "stdout",
     "output_type": "stream",
     "text": [
      "𝜂 = 10.3%\n"
     ]
    }
   ],
   "source": [
    "# What is the radiative efficiency of an accreting neutron star \n",
    "\n",
    "Mns = 1.4*Msun\n",
    "r_in = 10e5\n",
    "eta = Gcont*Mns/2/ccont**2/r_in\n",
    "\n",
    "print('𝜂 = {:.1f}%'.format(eta*100))"
   ]
  },
  {
   "cell_type": "code",
   "execution_count": 5,
   "metadata": {},
   "outputs": [
    {
     "name": "stdout",
     "output_type": "stream",
     "text": [
      "𝜂 = 8.2%\n"
     ]
    }
   ],
   "source": [
    "# how about for a non-rotating black hole. The last stable orbit is 3 r_s.\n",
    "# For a reference, the nuclear reaction efficiency is 0.7%\n",
    "\n",
    "r_s = 3e5*Mns/Msun\n",
    "r_in = 3*r_s\n",
    "eta = Gcont*Mns/2/ccont**2/r_in\n",
    "\n",
    "print('𝜂 = {:.1f}%'.format(eta*100))"
   ]
  },
  {
   "cell_type": "code",
   "execution_count": 13,
   "metadata": {},
   "outputs": [
    {
     "name": "stdout",
     "output_type": "stream",
     "text": [
      "𝐿 = 4.2e+33 erg/s ≈ 1.1 𝐿_sun\n"
     ]
    }
   ],
   "source": [
    "# Please calculate the luminosity of the cataclysmic variable accretion disk \n",
    "# (the mass of the white dwarf is one solar mass, the radius is 1e4 km,\n",
    "# and the accretion rate is 1e-9 solar mass per year)\n",
    "\n",
    "M = Msun\n",
    "Mdot = 1e-9*Msun/yr\n",
    "km = 1e5         # in cm\n",
    "r_in = 1e4*km    # in cm\n",
    "L = Gcont*M*Mdot/2/r_in\n",
    "\n",
    "print('𝐿 = {:.1e} erg/s ≈ {:.1f} 𝐿_sun'.format(L, L/Lsun))"
   ]
  },
  {
   "cell_type": "code",
   "execution_count": 15,
   "metadata": {},
   "outputs": [
    {
     "name": "stdout",
     "output_type": "stream",
     "text": [
      "𝑇 = 5e+04 K\n"
     ]
    }
   ],
   "source": [
    "# Please calculate the disk temperature at the white dwarf surface (the maximum temperature).\n",
    "\n",
    "T = (Gcont*M*Mdot/8/pi/sigmacont)**(1/4)*r_in**(-3/4)\n",
    "\n",
    "print('𝑇 = {:.0e} K'.format(T))"
   ]
  },
  {
   "cell_type": "code",
   "execution_count": 20,
   "metadata": {},
   "outputs": [
    {
     "name": "stdout",
     "output_type": "stream",
     "text": [
      "𝜆ₘₐₓ = 6e-06 cm = 589 Å (UV range)\n"
     ]
    }
   ],
   "source": [
    "# So at what wavelength does the disk emission peak?\n",
    "\n",
    "l_max = 0.29/T\n",
    "\n",
    "print('𝜆ₘₐₓ = {:.0e} cm = {:.0f} Å (UV range)'.format(l_max, l_max*1e8))"
   ]
  },
  {
   "cell_type": "markdown",
   "metadata": {},
   "source": [
    "## Homework (due Oct 18 )\n",
    "\n",
    "## Chapter 4,  question 10"
   ]
  },
  {
   "cell_type": "code",
   "execution_count": null,
   "metadata": {},
   "outputs": [],
   "source": []
  }
 ],
 "metadata": {
  "kernelspec": {
   "display_name": "Python 3",
   "language": "python",
   "name": "python3"
  },
  "language_info": {
   "codemirror_mode": {
    "name": "ipython",
    "version": 3
   },
   "file_extension": ".py",
   "mimetype": "text/x-python",
   "name": "python",
   "nbconvert_exporter": "python",
   "pygments_lexer": "ipython3",
   "version": "3.8.3"
  },
  "widgets": {
   "application/vnd.jupyter.widget-state+json": {
    "state": {},
    "version_major": 2,
    "version_minor": 0
   }
  }
 },
 "nbformat": 4,
 "nbformat_minor": 4
}
