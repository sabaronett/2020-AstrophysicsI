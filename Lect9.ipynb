{
 "cells": [
  {
   "cell_type": "markdown",
   "metadata": {},
   "source": [
    "# Midterm exam on Oct 27th\n",
    "\n",
    "## Chapter 1,2,3,4,5"
   ]
  },
  {
   "cell_type": "code",
   "execution_count": 2,
   "metadata": {},
   "outputs": [],
   "source": [
    "# read in library and constants\n",
    "import numpy as np, os, sys\n",
    "import matplotlib.pylab as p\n",
    "\n",
    "sigmacont=5.67051e-5\n",
    "acont=7.5657e-15\n",
    "ev=1.602e-12\n",
    "hcont=6.62607004e-27\n",
    "ccont=2.99792458e10\n",
    "kcont=1.38064852e-16\n",
    "rcont=8.314472e7\n",
    "me=9.1093837015e-28\n",
    "Gcont=6.67259e-8\n",
    "Msun=1.989e33\n",
    "Mearth=5.972e27\n",
    "Mjupiter=1.898e30\n",
    "Lsun=3.827e33\n",
    "rsun=6.9599e10\n",
    "rjupiter=7.149e9\n",
    "rearth=6.371e8\n",
    "au=1.49598e13\n",
    "pc=3.085678e18\n",
    "mh=1.67352e-24\n",
    "yr=365.2425*24.*3600\n",
    "pi=3.1415926"
   ]
  },
  {
   "cell_type": "code",
   "execution_count": 19,
   "metadata": {},
   "outputs": [
    {
     "name": "stdout",
     "output_type": "stream",
     "text": [
      "𝜎 ~ 3e-15 cm²\n",
      "𝑙 ~ 4e+13 cm ~ 2 AU\n"
     ]
    }
   ],
   "source": [
    "# What is the mean free path of neutral atoms or molecules, assuming the size of the atom is 3\n",
    "# angstrom, and the density of ISM is 10 particles per cm^3?\n",
    "n = 10   # cm^-3\n",
    "d = 3e-8 # cm\n",
    "sigma = pi*d**2 # cm^2\n",
    "l = 1/n/sigma\n",
    "\n",
    "print('𝜎 ~ {:.0e} cm²'.format(sigma))\n",
    "print('𝑙 ~ {:.0e} cm ~ {:.0f} AU'.format(l, l/au))"
   ]
  },
  {
   "cell_type": "code",
   "execution_count": 23,
   "metadata": {},
   "outputs": [
    {
     "name": "stdout",
     "output_type": "stream",
     "text": [
      "𝑙_cl ~ 0.2 km\n"
     ]
    }
   ],
   "source": [
    "# What is the interaction length for plasma traveling at 1e4 km/s?\n",
    "v = 1e9 # cm/s\n",
    "n_e = 1 # cm^-3\n",
    "omega = 5.7e4*n_e**(1/2) # s^-1\n",
    "l_cl = v/omega\n",
    "\n",
    "print('𝑙_cl ~ {:.1f} km'.format(l_cl/1e5))"
   ]
  },
  {
   "cell_type": "code",
   "execution_count": null,
   "metadata": {},
   "outputs": [],
   "source": [
    "# what is the gyro radius (larmor radius) for a relativistic proton (gamma=5)\n",
    "# around a magnetic field with 1e-6 G. (note that the cgs for 1 electric charge is 4.8e-10)\n",
    "\n"
   ]
  },
  {
   "cell_type": "markdown",
   "metadata": {},
   "source": [
    "## Homework (due Nov 1 )\n",
    "\n",
    "## Chapter 5,  questions 5 and 6"
   ]
  },
  {
   "cell_type": "markdown",
   "metadata": {},
   "source": [
    "# Exoplanets"
   ]
  },
  {
   "cell_type": "code",
   "execution_count": null,
   "metadata": {},
   "outputs": [],
   "source": [
    "# Assume edge on obs (sin i = 1)\n",
    "# Assume 1 Msun\n",
    "# Use doppler method"
   ]
  },
  {
   "cell_type": "code",
   "execution_count": 4,
   "metadata": {},
   "outputs": [
    {
     "name": "stdout",
     "output_type": "stream",
     "text": [
      "7.38e+11 cm = 0.05 AU\n"
     ]
    }
   ],
   "source": [
    "# 1) Calc distance r\n",
    "# a = 0.05 AU\n",
    "tau = 4*24*3600\n",
    "r = (Gcont*Msun*tau**2/4/pi**2)**(1/3)\n",
    "print('{:.2e} cm = {:.2f} AU'.format(r, r/au))"
   ]
  },
  {
   "cell_type": "code",
   "execution_count": 9,
   "metadata": {},
   "outputs": [
    {
     "name": "stdout",
     "output_type": "stream",
     "text": [
      "1.3e+05 m/s = 134 km/s\n"
     ]
    }
   ],
   "source": [
    "# v_p = 1.3e5 m/s = 134 km/s\n",
    "v_p = (Gcont*Msun/r)**(1/2)\n",
    "print('v_p = {:.1e} m/s = {:.0f} km/s'.format(v_p/1e2, v_p/1e5))"
   ]
  },
  {
   "cell_type": "code",
   "execution_count": 12,
   "metadata": {},
   "outputs": [
    {
     "name": "stdout",
     "output_type": "stream",
     "text": [
      "0.5 Mj = 149 Mearth\n"
     ]
    }
   ],
   "source": [
    "# Mp ~ 0.5 Mj ~ 150 Mearth\n",
    "# v* = 60 m/s\n",
    "v_s = 60e2 # cm/s\n",
    "Mp = (tau/2/pi/Gcont)**(1/3)*v_s*Msun**(2/3)\n",
    "print('Mp = {:.1f} Mj = {:.0f} Mearth'.format(Mp/Mjupiter, Mp/Mearth))"
   ]
  },
  {
   "cell_type": "code",
   "execution_count": 15,
   "metadata": {},
   "outputs": [
    {
     "name": "stdout",
     "output_type": "stream",
     "text": [
      "Tp = 1260 K\n"
     ]
    }
   ],
   "source": [
    "# Assume T* = 5800K\n",
    "# Tp ~ 1300 K\n",
    "Ts = 5800 # K\n",
    "Tp = Ts*(rsun/2/r)**(1/2)\n",
    "print('Tp = {:.0f} K'.format(Tp))"
   ]
  },
  {
   "cell_type": "code",
   "execution_count": 20,
   "metadata": {},
   "outputs": [
    {
     "name": "stdout",
     "output_type": "stream",
     "text": [
      "Mp = 11.2 Mearth\n"
     ]
    }
   ],
   "source": [
    "# Planet mass due to 1 m/s v* limit\n",
    "v_s = 1e2\n",
    "r = au\n",
    "Mp = v_s*(Msun*r/Gcont)**(1/2)\n",
    "print('Mp = {:.1f} Mearth'.format(Mp/Mearth))"
   ]
  },
  {
   "cell_type": "code",
   "execution_count": 21,
   "metadata": {},
   "outputs": [
    {
     "name": "stdout",
     "output_type": "stream",
     "text": [
      "Mp = 25.0 Mearth\n"
     ]
    }
   ],
   "source": [
    "# Planet mass due to 1 m/s v* limit\n",
    "v_s = 1e2\n",
    "r = 5*au\n",
    "Mp = v_s*(Msun*r/Gcont)**(1/2)\n",
    "print('Mp = {:.1f} Mearth'.format(Mp/Mearth))"
   ]
  },
  {
   "cell_type": "code",
   "execution_count": 19,
   "metadata": {},
   "outputs": [
    {
     "name": "stdout",
     "output_type": "stream",
     "text": [
      "Mp = 35.4 Mearth\n"
     ]
    }
   ],
   "source": [
    "# Planet mass due to 1 m/s v* limit\n",
    "v_s = 1e2\n",
    "r = 10*au\n",
    "Mp = v_s*(Msun*r/Gcont)**(1/2)\n",
    "print('Mp = {:.1f} Mearth'.format(Mp/Mearth))"
   ]
  },
  {
   "cell_type": "code",
   "execution_count": 9,
   "metadata": {},
   "outputs": [
    {
     "name": "stdout",
     "output_type": "stream",
     "text": [
      "1.674283e+12 Mearth\n"
     ]
    }
   ],
   "source": [
    "# Planet mass due to 1 m/s v* limit\n",
    "v_s = 1e2\n",
    "r = 10*au\n",
    "Mp = r*v_s*(Msun)**(1/2)/Gcont\n",
    "print('{:2e} Mearth'.format(Mp/Mearth))"
   ]
  }
 ],
 "metadata": {
  "kernelspec": {
   "display_name": "Python 3",
   "language": "python",
   "name": "python3"
  },
  "language_info": {
   "codemirror_mode": {
    "name": "ipython",
    "version": 3
   },
   "file_extension": ".py",
   "mimetype": "text/x-python",
   "name": "python",
   "nbconvert_exporter": "python",
   "pygments_lexer": "ipython3",
   "version": "3.8.3"
  },
  "widgets": {
   "application/vnd.jupyter.widget-state+json": {
    "state": {},
    "version_major": 2,
    "version_minor": 0
   }
  }
 },
 "nbformat": 4,
 "nbformat_minor": 4
}
