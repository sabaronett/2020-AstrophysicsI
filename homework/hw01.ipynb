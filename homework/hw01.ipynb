{
 "cells": [
  {
   "cell_type": "markdown",
   "metadata": {},
   "source": [
    "# Homework #1\n",
    "|Author| Stanley A. Baronett|\n",
    "|--|-------------------------------|\n",
    "|Created | 9/5/2020|\n",
    "|Updated | 9/6/2020|\n",
    "\n",
    "All chapter problems, numbered equations, and page numbers are from _Astrophysics in a Nutshell: Second Edition_ by Dan Maoz."
   ]
  },
  {
   "cell_type": "markdown",
   "metadata": {},
   "source": [
    "## Chapter 1, Problem 2"
   ]
  },
  {
   "cell_type": "markdown",
   "metadata": {},
   "source": [
    "### Knowns\n",
    "- $D = 1$ is the diameter of the telescope (i.e., _aperture_) in meters.\n",
    "- $A_{\\textrm{star}} = \\pi R^2$ is the area of the _seeing disk_ in pixels.\n",
    "- $N_{\\textrm{star}}$ is the total number of photoelectrons over $A_{\\textrm{star}}$, accumulated during the exposure, due to starlight.\n",
    "- $n_{\\textrm{sky}}$ is the number of photoelectrons per pixel, during the same exposure, due to skylight."
   ]
  },
  {
   "cell_type": "markdown",
   "metadata": {},
   "source": [
    "### a.\n",
    "$S/N$ is the _signal-to-noise ratio_, where the _signal_ is the counts from the star ($S = N_{\\textrm{star}}$), and the _noise_ is the square root of total counts (from all sources), assuming a Poisson distribution ($N = \\sqrt{N_{\\textrm{star}} + n_{\\textrm{sky}}\\pi R^2}$).  Thus,\n",
    "\n",
    "\\begin{equation}\n",
    "\\boxed{S/N = \\dfrac{N_{\\textrm{star}}}{\\sqrt{N_{\\textrm{star}} + n_{\\textrm{sky}}\\pi R^2}}}\n",
    "\\tag{A}\n",
    "\\end{equation}"
   ]
  },
  {
   "cell_type": "markdown",
   "metadata": {},
   "source": [
    "### b.\n",
    "Let $D^\\prime = 10$ be the diameter of a 10-m telescope. Since this diameter is 10 times that of the 1-m telescope, the overall aperture allows for a 100 times larger light gathering area (i.e., $\\pi r^2$), or $N^\\prime_{star} = 100N_{\\textrm{star}}$.  Similarly, this allows 100 times more skylight than before, and thus $n^\\prime_{sky} = 100n_{\\textrm{sky}}$ per pixel.  Furthermore, this site has 3 times better seeing, and thus the area of the starlight's seeing disk (in pixels) is now\n",
    "\n",
    "\\begin{align}\n",
    "A^\\prime_{\\textrm{star}} &= \\pi (R/3)^2\\\\\n",
    "&= \\dfrac{\\pi}{9}R^2\n",
    "\\tag{B}\n",
    "\\end{align}\n",
    "\n",
    "In this case, the signal-to-noise ratio is\n",
    "\n",
    "\\begin{align}\n",
    "S/N^\\prime &= \\dfrac{100N_{\\textrm{star}}}{\\sqrt{100N_{\\textrm{star}} + 100n_{\\textrm{sky}}\\pi R^2/9}}\\\\\n",
    "&= \\boxed{\\dfrac{10N_{\\textrm{star}}}{\\sqrt{N_{\\textrm{star}} + n_{\\textrm{sky}}\\pi R^2/9}}}\n",
    "\\tag{C}\n",
    "\\end{align}"
   ]
  },
  {
   "cell_type": "markdown",
   "metadata": {},
   "source": [
    "### c.\n",
    "If the star and sky are not variable (i.e., constant rate of arriving photons), then\n",
    "$N_{\\textrm{star}}\\cdot t$ and $n_{\\textrm{sky}}\\cdot t$ are the total number of starlight photoelectrons over $A_{\\textrm{star}}$ and number of skylight photoelectrons per pixel, respectively, where $t$ is the exposure time.\n",
    "\n",
    "#### _Source-limited_ Case\n",
    "If $N_{\\textrm{star}} \\gg n_{\\textrm{sky}}\\pi R^2$, then the signal-to-noise ratio, as a function of exposure time, is\n",
    "\n",
    "\\begin{align}\n",
    "\\lim_{N_{\\textrm{star}} \\gg n_{\\textrm{sky}}}S/N(t) &= \\dfrac{N_{\\textrm{star}}t}{\\sqrt{N_{\\textrm{star}}t}}\\\\\n",
    "&= \\boxed{(N_{\\textrm{star}}t)^{1/2}}\n",
    "\\tag{D}\n",
    "\\end{align}\n",
    "\n",
    "#### _Background-limited_ Case\n",
    "If $N_{\\textrm{star}} \\ll n_{\\textrm{sky}}\\pi R^2$, then\n",
    "\n",
    "\\begin{align}\n",
    "\\lim_{N_{\\textrm{star}} \\ll n_{\\textrm{sky}}}S/N(t) &= \\dfrac{N_{\\textrm{star}}t}{\\sqrt{n_{\\textrm{sky}}\\pi R^2 t}}\\\\\n",
    "&= \\boxed{\\dfrac{N_{\\textrm{star}}}{\\sqrt{n_{\\textrm{sky}}\\pi} R} t^{1/2}}\n",
    "\\tag{E}\n",
    "\\end{align}"
   ]
  },
  {
   "cell_type": "markdown",
   "metadata": {},
   "source": [
    "### d.\n",
    "\n",
    "#### 10-m _Source-limited_ Case\n",
    "If $N_{\\textrm{star}} \\gg n_{\\textrm{sky}}\\pi R^2$, then\n",
    "\n",
    "\\begin{align}\n",
    "\\lim_{N_{\\textrm{star}} \\gg n_{\\textrm{sky}}}S/N^\\prime(t) &= \\dfrac{100N_{\\textrm{star}}t}{\\sqrt{100N_{\\textrm{star}}t}} \\\\\n",
    "&= 10(N_{\\textrm{star}}t)^{1/2} \\\\\n",
    "&= 10\\left(\\lim_{N_{\\textrm{star}} \\gg n_{\\textrm{sky}}}S/N(t)\\right) \\\\\n",
    "&= \\boxed{\\lim_{N_{\\textrm{star}} \\gg n_{\\textrm{sky}}}S/N(100t)}\n",
    "\\tag{F}\n",
    "\\end{align}\n",
    "\n",
    "Since $S/N(t) \\propto t^{1/2}$, the 1-m telescope needs a _hundred_-times longer exposure time ($100t$) to reach $S/N^\\prime(t)$ in the _source-limited_ case.\n",
    "\n",
    "#### 10-m _Background-limited_ Case\n",
    "If $N_{\\textrm{star}} \\ll n_{\\textrm{sky}}\\pi R^2$, then\n",
    "\n",
    "\\begin{align}\n",
    "\\lim_{N_{\\textrm{star}} \\ll n_{\\textrm{sky}}}S/N(t) &= \\dfrac{100N_{\\textrm{star}}t}{\\sqrt{100n_{\\textrm{sky}}\\pi R^2 t/9}}\\\\\n",
    "&= \\dfrac{30N_{\\textrm{star}}}{\\sqrt{n_{\\textrm{sky}}\\pi} R} t^{1/2} \\\\\n",
    "&= 30\\left(\\lim_{N_{\\textrm{star}} \\ll n_{\\textrm{sky}}}S/N(t)\\right) \\\\\n",
    "&\\approx \\boxed{\\lim_{N_{\\textrm{star}} \\gg n_{\\textrm{sky}}}S/N(1000t)}\n",
    "\\tag{G}\n",
    "\\end{align}\n",
    "\n",
    "The 1-m telescope needs about a _thousand_-times longer exposure time ($1000t$) to reach $S/N^\\prime(t)$ in the _background-limited_ case."
   ]
  },
  {
   "cell_type": "markdown",
   "metadata": {},
   "source": [
    "## Chapter 2, Problem 1"
   ]
  },
  {
   "cell_type": "markdown",
   "metadata": {},
   "source": [
    "### a.\n",
    "If $f(d_\\odot)$ is the flux from the Sun just above the Earth's atmosphere, integrated over all wavelengths, then, from Eq. 2.8,\n",
    "\n",
    "\\begin{align}\n",
    "f(d_\\odot) = \\int_0^\\infty{f_\\nu(d_\\odot)d\\nu},\n",
    "\\tag{H}\n",
    "\\end{align}\n",
    "\n",
    "where, from Eq. 2.7,\n",
    "\n",
    "\\begin{align}\n",
    "f_\\nu(d_\\odot) = f_\\nu(R_\\odot)\\dfrac{R_\\odot^2}{d_\\odot^2},\n",
    "\\tag{I}\n",
    "\\end{align}\n",
    "\n",
    "where $R_\\odot$ is the radius of the Sun (i.e., _photosphere_). Rearranging, we find\n",
    "\n",
    "\\begin{align}\n",
    "f_\\nu(R_\\odot) &= f_\\nu(d_\\odot)\\dfrac{d_\\odot^2}{R_\\odot^2} \\\\\n",
    "&= \\pi f_\\nu(d_\\odot)\\dfrac{d_\\odot^2}{\\pi R_\\odot^2}\n",
    "\\tag{J}\n",
    "\\end{align}\n",
    "\n",
    "But the Sun subtends a solid angle $\\Omega$, defined as $\\Omega \\equiv A/d^2$, where $A$ is the spherical surface area (i.e., the half-sphere of the Sun, facing outwards toward Earth), and $d$ is the distance from the object to the _apex_. In this case, $A = \\pi R_\\odot^2$ and $d = d_\\odot$, thus\n",
    "\n",
    "\\begin{align}\n",
    "\\Omega = \\dfrac{\\pi R_\\odot^2}{d_\\odot^2}.\n",
    "\\tag{K}\n",
    "\\end{align}\n",
    "\n",
    "Substituting Eq. K into J,\n",
    "\n",
    "\\begin{align}\n",
    "f_\\nu(R_\\odot) &= \\dfrac{\\pi f_\\nu(d_\\odot)}{\\Omega},\n",
    "\\tag{L}\n",
    "\\end{align}\n",
    "\n",
    "and integrating over all frequencies,\n",
    "\n",
    "\\begin{align}\n",
    "\\int_0^\\infty{f_\\nu(R_\\odot)d\\nu} &= \\dfrac{\\pi}{\\Omega}\\int_0^\\infty{f_\\nu(d_\\odot)d\\nu},\n",
    "\\tag{M}\n",
    "\\end{align}\n",
    "\n",
    "from Eq. 2.8, we find the flux at the solar photosphere is\n",
    "\n",
    "\\begin{align}\n",
    "\\boxed{ f(R_\\odot) = \\dfrac{\\pi f(d_\\odot)}{\\Omega} }\n",
    "\\tag{N}\n",
    "\\end{align}"
   ]
  },
  {
   "cell_type": "markdown",
   "metadata": {},
   "source": [
    "### b.\n",
    "From Eq. 2.22, and following the diagram of Fig. 2.3, the _angular radius_ of the Sun on Earth's sky is\n",
    "\n",
    "\\begin{align}\n",
    "\\alpha = \\dfrac{R_\\odot}{d_\\odot}.\n",
    "\\tag{O}\n",
    "\\end{align}\n",
    "\n",
    "Substituting Eq. O into K, we find an expression for the solid angle subtended by the Sun in steradians as\n",
    "\n",
    "\\begin{align}\n",
    "\\Omega = \\pi \\alpha^2 \\quad\\textrm{sr}\n",
    "\\tag{P}\n",
    "\\end{align}\n",
    "\n",
    "Given the _angular diameter_ of the Sun is $\\delta = 0.57°$, we can calculate $\\Omega$ as follows:"
   ]
  },
  {
   "cell_type": "code",
   "execution_count": 15,
   "metadata": {},
   "outputs": [
    {
     "name": "stdout",
     "output_type": "stream",
     "text": [
      "Ω = 7.773101306658494e-05 sr\n"
     ]
    }
   ],
   "source": [
    "import numpy as np\n",
    "\n",
    "def deg2rad(deg):\n",
    "    return deg*np.pi/180\n",
    "\n",
    "deltaD = 0.57            # angular diameter in degrees\n",
    "deltaR = deg2rad(deltaD) # convert to radians\n",
    "alpha = deltaR / 2        # angular radius in radians\n",
    "Omega = np.pi*alpha**2\n",
    "print('Ω =', Omega, 'sr')"
   ]
  },
  {
   "cell_type": "markdown",
   "metadata": {},
   "source": [
    "Thus, $\\boxed{\\Omega \\approx 7.8 \\times 10^{-5} \\quad\\textrm{sr}}$."
   ]
  },
  {
   "cell_type": "markdown",
   "metadata": {},
   "source": [
    "### c.\n",
    "From Eq. 2.10, the _Stefan-Boltzmann law_ yields\n",
    "\n",
    "\\begin{align}\n",
    "f(R_\\odot) = \\sigma T_E^4,\n",
    "\\tag{Q}\n",
    "\\end{align}\n",
    "\n",
    "where $T_E$ is the effective surface temperature of the Sun, and $\\sigma = 5.7 \\times 10^{-5} \\quad\\textrm{erg s}^{-1}\\textrm{ cm}^{-2}\\textrm{ K}^{-4}$ (p. 13).  Substituting the left-hand side of Eq. Q with N and solving for $T_E$, we find\n",
    "\n",
    "\\begin{align}\n",
    "T_E = \\left( \\dfrac{\\pi f(d_\\odot)}{\\sigma \\Omega} \\right)^{1/4}.\n",
    "\\tag{R}\n",
    "\\end{align}\n",
    "\n",
    "Given the solar flux at Earth is $f(d_\\odot) = 1.4 \\times 10^6 \\quad\\textrm{erg s}^{-1}\\textrm{ cm}^{-2}$, we can calculate $T_E$ as follows:"
   ]
  },
  {
   "cell_type": "code",
   "execution_count": 16,
   "metadata": {},
   "outputs": [
    {
     "name": "stdout",
     "output_type": "stream",
     "text": [
      "T = 5613.092267890842 K\n"
     ]
    }
   ],
   "source": [
    "sigma = 5.7e-5 # stefan-boltzmann constant in cgs\n",
    "flux = 1.4e6   # solar flux at Earth in cgs\n",
    "Teff = (np.pi*flux/sigma/Omega)**(1/4)\n",
    "print('T =', Teff, 'K')"
   ]
  },
  {
   "cell_type": "markdown",
   "metadata": {},
   "source": [
    "Thus, $\\boxed{T_E \\approx 5800 \\quad\\textrm{K}}$."
   ]
  },
  {
   "cell_type": "markdown",
   "metadata": {},
   "source": [
    "### d.\n"
   ]
  }
 ],
 "metadata": {
  "kernelspec": {
   "display_name": "REBOUNDx (3.1.0)",
   "language": "python",
   "name": "rebx-3.1.0"
  },
  "language_info": {
   "codemirror_mode": {
    "name": "ipython",
    "version": 3
   },
   "file_extension": ".py",
   "mimetype": "text/x-python",
   "name": "python",
   "nbconvert_exporter": "python",
   "pygments_lexer": "ipython3",
   "version": "3.8.3"
  },
  "widgets": {
   "application/vnd.jupyter.widget-state+json": {
    "state": {},
    "version_major": 2,
    "version_minor": 0
   }
  }
 },
 "nbformat": 4,
 "nbformat_minor": 4
}
