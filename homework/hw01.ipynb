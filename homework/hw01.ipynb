{
 "cells": [
  {
   "cell_type": "markdown",
   "metadata": {},
   "source": [
    "# Homework #1\n",
    "|Author| Stanley A. Baronett|\n",
    "|--|-------------------------------|\n",
    "|Created | 9/5/2020|"
   ]
  },
  {
   "cell_type": "markdown",
   "metadata": {},
   "source": [
    "## Chapter 1, Problem 2"
   ]
  },
  {
   "cell_type": "markdown",
   "metadata": {},
   "source": [
    "### Knowns\n",
    "- $D = 1$ is the diameter of the telescope (i.e., _aperture_) in meters.\n",
    "- $A_{\\textrm{star}} = \\pi R^2$ is the area of the _seeing disk_ in pixels.\n",
    "- $N_{\\textrm{star}}$ is the total number of photoelectrons over $A_{\\textrm{star}}$, accumulated during the exposure, due to starlight.\n",
    "- $n_{\\textrm{sky}}$ is the number of photoelectrons per pixel, during the same exposure, due to skylight."
   ]
  },
  {
   "cell_type": "markdown",
   "metadata": {},
   "source": [
    "### a.\n",
    "$S/N$ is the _signal-to-noise ratio_, where the _signal_ is the counts from the star ($S = N_{\\textrm{star}}$), and the _noise_ is the square root of total counts (from all sources), assuming a Poisson distribution ($N = \\sqrt{N_{\\textrm{star}} + n_{\\textrm{sky}}\\pi R^2}$).  Thus,\n",
    "\n",
    "\\begin{equation}\n",
    "\\boxed{S/N = \\dfrac{N_{\\textrm{star}}}{\\sqrt{N_{\\textrm{star}} + n_{\\textrm{sky}}\\pi R^2}}}\n",
    "\\tag{1}\n",
    "\\end{equation}"
   ]
  },
  {
   "cell_type": "markdown",
   "metadata": {},
   "source": [
    "### b.\n",
    "Let $D^\\prime = 10$ be the diameter of a 10-m telescope. Since this diameter is 10 times that of the 1-m telescope, the overall aperture allows for a 100 times larger light gathering area (i.e., $\\pi r^2$), or $N^\\prime_{star} = 100N_{\\textrm{star}}$.  Similarly, this allows 100 times more skylight than before, and thus $n^\\prime_{sky} = 100n_{\\textrm{sky}}$ per pixel.  Furthermore, this site has 3 times better seeing, and thus the area of the starlight's seeing disk (in pixels) is now\n",
    "\n",
    "\\begin{align}\n",
    "A^\\prime_{\\textrm{star}} &= \\pi (R/3)^2\\\\\n",
    "&= \\dfrac{\\pi}{9}R^2\n",
    "\\tag{2}\n",
    "\\end{align}\n",
    "\n",
    "In this case, the signal-to-noise ratio is\n",
    "\n",
    "\\begin{align}\n",
    "S/N^\\prime &= \\dfrac{100N_{\\textrm{star}}}{\\sqrt{100N_{\\textrm{star}} + 100n_{\\textrm{sky}}\\pi R^2/9}}\\\\\n",
    "&= \\boxed{\\dfrac{10N_{\\textrm{star}}}{\\sqrt{N_{\\textrm{star}} + n_{\\textrm{sky}}\\pi R^2/9}}}\n",
    "\\tag{3}\n",
    "\\end{align}"
   ]
  },
  {
   "cell_type": "markdown",
   "metadata": {},
   "source": [
    "### c.\n",
    "If the star and sky are not variable (i.e., constant rate of arriving photons), then\n",
    "$N_{\\textrm{star}}\\cdot t$ and $n_{\\textrm{sky}}\\cdot t$ are the total number of starlight photoelectrons over $A_{\\textrm{star}}$ and number of skylight photoelectrons per pixel, respectively, where $t$ is the exposure time.\n",
    "\n",
    "#### _Source-limited_ Case\n",
    "If $N_{\\textrm{star}} \\gg n_{\\textrm{sky}}\\pi R^2$, then the signal-to-noise ratio, as a function of exposure time, is\n",
    "\n",
    "\\begin{align}\n",
    "\\lim_{N_{\\textrm{star}} \\gg n_{\\textrm{sky}}}S/N(t) &= \\dfrac{N_{\\textrm{star}}t}{\\sqrt{N_{\\textrm{star}}t}}\\\\\n",
    "&= (N_{\\textrm{star}}t)^{1/2}\n",
    "\\tag{4}\n",
    "\\end{align}\n",
    "\n",
    "#### _Background-limited_ Case\n",
    "If $N_{\\textrm{star}} \\ll n_{\\textrm{sky}}\\pi R^2$, then\n",
    "\n",
    "\\begin{align}\n",
    "\\lim_{N_{\\textrm{star}} \\ll n_{\\textrm{sky}}}S/N(t) &= \\dfrac{N_{\\textrm{star}}t}{\\sqrt{n_{\\textrm{sky}}\\pi R^2 t}}\\\\\n",
    "&= \\dfrac{N_{\\textrm{star}}}{\\sqrt{n_{\\textrm{sky}}\\pi} R} t^{1/2}\n",
    "\\tag{5}\n",
    "\\end{align}"
   ]
  },
  {
   "cell_type": "markdown",
   "metadata": {},
   "source": [
    "### d.\n",
    "\n",
    "#### 10-m _Source-limited_ Case\n",
    "If $N_{\\textrm{star}} \\gg n_{\\textrm{sky}}\\pi R^2$, then\n",
    "\n",
    "\\begin{align}\n",
    "\\lim_{N_{\\textrm{star}} \\gg n_{\\textrm{sky}}}S/N^\\prime(t) &= \\dfrac{100N_{\\textrm{star}}t}{\\sqrt{100N_{\\textrm{star}}t}} \\\\\n",
    "&= 10(N_{\\textrm{star}}t)^{1/2} \\\\\n",
    "&= 10\\left(\\lim_{N_{\\textrm{star}} \\gg n_{\\textrm{sky}}}S/N(t)\\right) \\\\\n",
    "&= \\lim_{N_{\\textrm{star}} \\gg n_{\\textrm{sky}}}S/N(100t)\n",
    "\\tag{6}\n",
    "\\end{align}\n",
    "\n",
    "Since $S/N(t) \\propto t^{1/2}$, the 1-m telescope needs a _hundred_-times longer exposure time ($100t$) to reach $S/N^\\prime(t)$ in the _source-limited_ case.\n",
    "\n",
    "#### 10-m _Background-limited_ Case\n",
    "If $N_{\\textrm{star}} \\ll n_{\\textrm{sky}}\\pi R^2$, then\n",
    "\n",
    "\\begin{align}\n",
    "\\lim_{N_{\\textrm{star}} \\ll n_{\\textrm{sky}}}S/N(t) &= \\dfrac{100N_{\\textrm{star}}t}{\\sqrt{100n_{\\textrm{sky}}\\pi R^2 t/9}}\\\\\n",
    "&= \\dfrac{30N_{\\textrm{star}}}{\\sqrt{n_{\\textrm{sky}}\\pi} R} t^{1/2} \\\\\n",
    "&= 30\\left(\\lim_{N_{\\textrm{star}} \\ll n_{\\textrm{sky}}}S/N(t)\\right) \\\\\n",
    "&\\approx \\lim_{N_{\\textrm{star}} \\gg n_{\\textrm{sky}}}S/N(1000t)\n",
    "\\tag{7}\n",
    "\\end{align}\n",
    "\n",
    "The 1-m telescope needs about a _thousand_-times longer exposure time ($1000t$) to reach $S/N^\\prime(t)$ in the _background-limited_ case."
   ]
  }
 ],
 "metadata": {
  "kernelspec": {
   "display_name": "REBOUNDx (3.1.0)",
   "language": "python",
   "name": "rebx-3.1.0"
  },
  "language_info": {
   "codemirror_mode": {
    "name": "ipython",
    "version": 3
   },
   "file_extension": ".py",
   "mimetype": "text/x-python",
   "name": "python",
   "nbconvert_exporter": "python",
   "pygments_lexer": "ipython3",
   "version": "3.8.3"
  },
  "widgets": {
   "application/vnd.jupyter.widget-state+json": {
    "state": {},
    "version_major": 2,
    "version_minor": 0
   }
  }
 },
 "nbformat": 4,
 "nbformat_minor": 4
}
