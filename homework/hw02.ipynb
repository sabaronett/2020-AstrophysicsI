{
 "cells": [
  {
   "cell_type": "markdown",
   "metadata": {},
   "source": [
    "# Homework #2\n",
    "|Author| Stanley A. Baronett|\n",
    "|--|-------------------------------|\n",
    "|Created | 9/12/2020|\n",
    "|Updated | 9/12/2020|\n",
    "\n",
    "All references to chapter problems, numbered equations, and page numbers are from _Astrophysics in a Nutshell: Second Edition_ by Dan Maoz."
   ]
  },
  {
   "cell_type": "markdown",
   "metadata": {},
   "source": [
    "## Chapter 2, Problem 4"
   ]
  },
  {
   "cell_type": "markdown",
   "metadata": {},
   "source": [
    "### Knowns\n",
    "- $|v_{1\\textrm{,obs}}| = 100 \\textrm{ km}\\textrm{ s}^{-1}$\n",
    "- $|v_{2\\textrm{,obs}}| = 200 \\textrm{ km}\\textrm{ s}^{-1}$\n",
    "- $\\tau = 2 \\textrm{ days}$"
   ]
  },
  {
   "cell_type": "markdown",
   "metadata": {},
   "source": [
    "### a.\n",
    "From Eq. 2.41,\n",
    "\n",
    "\\begin{align}\n",
    "\\dfrac{|v_{1\\textrm{,obs}}|}{|v_{2\\textrm{,obs}}|} = \\dfrac{M_2}{M_1}.\n",
    "\\tag{A}\n",
    "\\end{align}\n",
    "\n",
    "Thus, we can calculate the mass ratio of the two stars as follows:"
   ]
  },
  {
   "cell_type": "code",
   "execution_count": 10,
   "metadata": {},
   "outputs": [
    {
     "name": "stdout",
     "output_type": "stream",
     "text": [
      "𝑀₂/𝑀₁ = 0.5\n"
     ]
    }
   ],
   "source": [
    "v1obs = 100e5 # star 1's observed radial velocity in cm/s\n",
    "v2obs = 200e5 # star 2's observed radial velocity in cm/s\n",
    "M_ratio = v1obs/v2obs\n",
    "print('𝑀₂/𝑀₁ =', M_ratio)"
   ]
  },
  {
   "cell_type": "markdown",
   "metadata": {},
   "source": [
    "\\begin{align}\n",
    "\\boxed{\\dfrac{M_2}{M_1} = \\dfrac{1}{2} \\quad\\textrm{or}\\quad \\dfrac{M_1}{M_2} = 2}.\n",
    "\\tag{B}\n",
    "\\end{align}"
   ]
  },
  {
   "cell_type": "markdown",
   "metadata": {},
   "source": [
    "### b.\n",
    "From Eq. 2.41 or A,\n",
    "\n",
    "\\begin{align}\n",
    "M_1 = \\dfrac{M_2|v_{2\\textrm{,obs}}|}{|v_{1\\textrm{,obs}}|} \\quad\\textrm{and}\\quad M_2 = \\dfrac{M_1|v_{1\\textrm{,obs}}|}{|v_{2\\textrm{,obs}}|}.\n",
    "\\tag{C}\n",
    "\\end{align}\n",
    "\n",
    "_Kepler's Third Law_, from Eq. 2.42, is\n",
    "\n",
    "\\begin{align}\n",
    "(M_1 + M_2)\\sin^3{i} = \\dfrac{\\tau\\left(|v_{1\\textrm{,obs}}| + |v_{2\\textrm{,obs}}| \\right)^3}{2\\pi G}\n",
    "\\tag{D}\n",
    "\\end{align}\n",
    "\n",
    "Substituting our expression for $M_2$ in Eq. C,\n",
    "\n",
    "\\begin{align}\n",
    "\\left(M_1 + \\dfrac{M_1|v_{1\\textrm{,obs}}|}{|v_{2\\textrm{,obs}}|}\\right)\\sin^3{i} &= \\dfrac{\\tau\\left(|v_{1\\textrm{,obs}}| + |v_{2\\textrm{,obs}}| \\right)^3}{2\\pi G} \\\\\n",
    "\\left(1 + \\dfrac{|v_{1\\textrm{,obs}}|}{|v_{2\\textrm{,obs}}|}\\right)M_1\\sin^3{i} &= \\\\\n",
    "M_1\\sin^3{i} &= \\dfrac{\\tau\\left(|v_{1\\textrm{,obs}}| + |v_{2\\textrm{,obs}}| \\right)^3}{2\\pi G}\\left(1 + \\dfrac{|v_{1\\textrm{,obs}}|}{|v_{2\\textrm{,obs}}|}\\right)^{-1},\n",
    "\\tag{E}\n",
    "\\end{align}\n",
    "\n",
    "which, using our given values, yields\n",
    "\n",
    "\\begin{align}\n",
    "M_1\\sin^3{i} &= \\dfrac{\\tau\\left(|v_{1\\textrm{,obs}}| + |v_{2\\textrm{,obs}}| \\right)^3}{2\\pi G}\\left(1 + \\dfrac{1}{2}\\right)^{-1} \\\\\n",
    "&= \\dfrac{\\tau\\left(|v_{1\\textrm{,obs}}| + |v_{2\\textrm{,obs}}| \\right)^3}{3\\pi G}.\n",
    "\\tag{F}\n",
    "\\end{align}\n",
    "\n",
    "Repeating the steps through Eqs. E and F, similarly we find\n",
    "\n",
    "\\begin{align}\n",
    "M_2\\sin^3{i} &= \\dfrac{\\tau\\left(|v_{1\\textrm{,obs}}| + |v_{2\\textrm{,obs}}| \\right)^3}{6\\pi G}.\n",
    "\\tag{G}\n",
    "\\end{align}\n",
    "\n",
    "We calculate the values of $M_1\\sin^3{i}$ and $M_2\\sin^3{i}$ as follows:"
   ]
  },
  {
   "cell_type": "code",
   "execution_count": 13,
   "metadata": {},
   "outputs": [
    {
     "name": "stdout",
     "output_type": "stream",
     "text": [
      "𝑀₁sin³𝑖 = 3.7314339436091264 𝑀ₛᵤₙ\n",
      "𝑀₂sin³𝑖 = 1.8657169718045632 𝑀ₛᵤₙ\n"
     ]
    }
   ],
   "source": [
    "import numpy as np\n",
    "\n",
    "tau = 2*24*3600 # orbital period in s\n",
    "G = 6.67e-8     # gravitational constant in cgs units\n",
    "Msun = 1.989e33 # solar mass in g\n",
    "M1sin3i = tau*(v1obs + v2obs)**3/3/np.pi/G/Msun\n",
    "M2sin3i = tau*(v1obs + v2obs)**3/6/np.pi/G/Msun\n",
    "print('𝑀₁sin³𝑖 =', M1sin3i, '𝑀ₛᵤₙ')\n",
    "print('𝑀₂sin³𝑖 =', M2sin3i, '𝑀ₛᵤₙ')"
   ]
  },
  {
   "cell_type": "markdown",
   "metadata": {},
   "source": [
    "\\begin{align}\n",
    "\\boxed{M_1\\sin^3{i} \\approx 3.7M_{\\odot} \\quad\\textrm{and}\\quad M_2\\sin^3{i} \\approx 1.8M_{\\odot}}.\n",
    "\\tag{H}\n",
    "\\end{align}"
   ]
  },
  {
   "cell_type": "markdown",
   "metadata": {},
   "source": [
    "### c.\n",
    "To calculate the mean expectation value of $\\sin^3i$ (i.e., the mean value it would have among an ensemble of binaries with random inclinations), in spherical coordinates ($\\theta$, $\\phi$), we can integrate over the solid angle of a sphere where the observer is in the direction of the $z$-axis, with each solid angle element weighted by $\\sin^3\\theta$.  Thus,\n",
    "\n",
    "\\begin{align}\n",
    "\\int_S \\sin^3\\theta d\\Omega = \\int_0^{\\pi/2}\\int_0^{2\\pi} \\sin^3\\theta \\sin\\theta\\,d\\theta\\,d\\phi = 2\\pi \\int_0^{\\pi/2} \\sin^4\\theta\\,d\\theta\\,\n",
    "\\tag{I}\n",
    "\\end{align}\n",
    "\n",
    "where we integrate $d\\theta$ from $0$ to $\\pi/2$ for a hemisphere (observer's perspective).  Since the effect of inclination is axisymmetric with respect to the $z$-axis, we can ignore the factor of $2\\pi$ that resulted from integrating azimuthally ($d\\phi$).  Thus,\n",
    "\n",
    "\\begin{align}\n",
    "\\int_0^{\\pi/2} \\sin^4\\theta\\,d\\theta\\ &= \\int_0^{\\pi/2} \\left(\\sin^2\\theta\\right)^2\\,d\\theta \\\\\n",
    "&= \\int_0^{\\pi/2} \\left( \\dfrac{1 - \\cos(2\\theta)}{2} \\right)^2\\,d\\theta \\\\\n",
    "&= \\dfrac{1}{4} \\int_0^{\\pi/2} 1 - 2\\cos(2\\theta) + \\cos^2(2\\theta)\\,d\\theta \\\\\n",
    "&= \\dfrac{1}{4} \\int_0^{\\pi/2} 1 - 2\\cos(2\\theta) + \\left( \\dfrac{1 + \\cos(4\\theta)}{2} \\right)\\,d\\theta \\\\\n",
    "&= \\int_0^{\\pi/2} \\dfrac{3}{8} - \\dfrac{1}{2}\\cos(2\\theta) + \\dfrac{1}{8} \\cos(4\\theta)\\,d\\theta \\\\\n",
    "&= \\left. \\dfrac{3}{8}\\theta - \\dfrac{1}{4}\\sin(2\\theta) + \\dfrac{1}{32} \\sin(4\\theta) \\right\\vert_0^{\\pi/2} \\\\\n",
    "&= \\dfrac{3\\pi}{16}\n",
    "\\tag{J}\n",
    "\\end{align}"
   ]
  },
  {
   "cell_type": "code",
   "execution_count": 16,
   "metadata": {},
   "outputs": [
    {
     "name": "stdout",
     "output_type": "stream",
     "text": [
      "〈sin³𝑖〉= 0.5890486225480862\n"
     ]
    }
   ],
   "source": [
    "sin3i = 3*np.pi/16\n",
    "print('〈sin³𝑖〉=', sin3i)"
   ]
  },
  {
   "cell_type": "markdown",
   "metadata": {},
   "source": [
    "\\begin{align}\n",
    "\\boxed{ \\left\\langle \\sin^3i \\right\\rangle = \\dfrac{3\\pi}{16} \\approx 0.59 }.\n",
    "\\tag{H}\n",
    "\\end{align}\n",
    "\n",
    "If $\\sin^3i$ has its mean value, we can calculate the masses of the two stars from Eq. H as follows:"
   ]
  },
  {
   "cell_type": "code",
   "execution_count": 17,
   "metadata": {},
   "outputs": [
    {
     "name": "stdout",
     "output_type": "stream",
     "text": [
      "𝑀₁ = 6.334679007426956 𝑀ₛᵤₙ\n",
      "𝑀₂ = 3.167339503713478 𝑀ₛᵤₙ\n"
     ]
    }
   ],
   "source": [
    "M1 = M1sin3i/sin3i\n",
    "M2 = M2sin3i/sin3i\n",
    "print('𝑀₁ =', M1, '𝑀ₛᵤₙ')\n",
    "print('𝑀₂ =', M2, '𝑀ₛᵤₙ')"
   ]
  },
  {
   "cell_type": "markdown",
   "metadata": {},
   "source": [
    "\\begin{align}\n",
    "\\boxed{M_1 \\approx 6.3M_{\\odot} \\quad\\textrm{and}\\quad M_2 \\approx 3.1M_{\\odot}}.\n",
    "\\tag{H}\n",
    "\\end{align}"
   ]
  }
 ],
 "metadata": {
  "kernelspec": {
   "display_name": "REBOUNDx (3.1.0)",
   "language": "python",
   "name": "rebx-3.1.0"
  },
  "language_info": {
   "codemirror_mode": {
    "name": "ipython",
    "version": 3
   },
   "file_extension": ".py",
   "mimetype": "text/x-python",
   "name": "python",
   "nbconvert_exporter": "python",
   "pygments_lexer": "ipython3",
   "version": "3.8.3"
  },
  "widgets": {
   "application/vnd.jupyter.widget-state+json": {
    "state": {},
    "version_major": 2,
    "version_minor": 0
   }
  }
 },
 "nbformat": 4,
 "nbformat_minor": 4
}
