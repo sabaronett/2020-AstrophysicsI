{
 "cells": [
  {
   "cell_type": "markdown",
   "metadata": {},
   "source": [
    "# Homework #4\n",
    "|Author| Stanley A. Baronett|\n",
    "|--|-------------------------------|\n",
    "|Created | 10/4/2020|\n",
    "\n",
    "All references to chapter problems, numbered equations, and page numbers are from _Astrophysics in a Nutshell: Second Edition_ by Dan Maoz."
   ]
  },
  {
   "cell_type": "markdown",
   "metadata": {},
   "source": [
    "## Chapter 4, Problem 1"
   ]
  },
  {
   "cell_type": "markdown",
   "metadata": {},
   "source": [
    "From Eq. 4.19, \n",
    "\n",
    "\\begin{align}\n",
    "n_e = \\frac{8\\pi}{3h^3}p_\\textrm{F}^3,\n",
    "\\tag{A}\n",
    "\\end{align}\n",
    "\n",
    "where $n_e$ is the density and $p_F$ the Fermi momentum of a fully degenerate fermion gas."
   ]
  },
  {
   "cell_type": "markdown",
   "metadata": {},
   "source": [
    "### a.\n",
    "\n",
    "For a nonrelativistic electron gas,\n",
    "\n",
    "\\begin{align}\n",
    "p_\\textrm{F} = \\sqrt{2m_eE_\\textrm{F}},\n",
    "\\tag{B}\n",
    "\\end{align}\n",
    "\n",
    "where $m_e$ is the electron mass and $E_\\textrm{F}$ the Fermi energy.  Plugging (B) into (A) and solving for $E_\\textrm{F}$ yields\n",
    "\n",
    "\\begin{align}\n",
    "n_e &= \\frac{8\\pi}{3h^3}(2m_eE_\\textrm{F})^{3/2} \\\\\n",
    "n_e^{2/3} &= \\left( \\frac{8\\pi}{3h^3} \\right)^{2/3} 2m_eE_\\textrm{F} \\\\\n",
    "E_\\textrm{F} &= \\boxed{ \\left( \\frac{3n_e}{\\pi} \\right)^{2/3} \\frac{h^2}{8m_e} }\n",
    "\\tag{C}\n",
    "\\end{align}"
   ]
  },
  {
   "cell_type": "markdown",
   "metadata": {},
   "source": [
    "### b.\n",
    "\n",
    "From Eq. 4.26,the electron density of a fully ionized gas composed of a single element is\n",
    "\n",
    "\\begin{align}\n",
    "n_e = Z\\frac{\\rho}{Am_p},\n",
    "\\tag{D}\n",
    "\\end{align}\n",
    "\n",
    "where $Z$ and $A$ are the atomic number and mass number, and $m_p$ is the proton mass.  In a typical white dwarf, $\\rho \\sim 10^6 \\textrm{ g}/\\textrm{cm}^3$ and $Z/A \\approx 0.5$.  We can find a characteristic $n_e$ as follows:"
   ]
  },
  {
   "cell_type": "code",
   "execution_count": 1,
   "metadata": {},
   "outputs": [
    {
     "name": "stdout",
     "output_type": "stream",
     "text": [
      "𝑛ₑ = 2.94e+29\n"
     ]
    }
   ],
   "source": [
    "ZA  = 0.5\n",
    "rho = 1e6 # g/cm^3\n",
    "m_p = 1.7e-24 # g\n",
    "n_e = ZA*rho/m_p\n",
    "\n",
    "print('𝑛ₑ = {:.2e}'.format(n_e))"
   ]
  },
  {
   "cell_type": "markdown",
   "metadata": {},
   "source": [
    "\\begin{equation}\n",
    "\\boxed{n_e \\approx 2.94 \\times 10^{29}}.\n",
    "\\end{equation}"
   ]
  },
  {
   "cell_type": "markdown",
   "metadata": {},
   "source": [
    "From Eq. 4.53, the characteristic thermal energy of a single electron in a gas of temperature T is\n",
    "\n",
    "\\begin{align}\n",
    "E_\\textrm{th} = \\frac{3}{2}kT.\n",
    "\\tag{E}\n",
    "\\end{align}\n",
    "\n",
    "Assuming a temperature $T = 10^7 \\textrm{ K}$, we can evaluate (E) as follows:"
   ]
  },
  {
   "cell_type": "code",
   "execution_count": 2,
   "metadata": {},
   "outputs": [
    {
     "name": "stdout",
     "output_type": "stream",
     "text": [
      "𝐸ₜₕ = 2.10e-09 erg\n"
     ]
    }
   ],
   "source": [
    "T = 1e7 # K\n",
    "k = 1.4e-16 # erg/K\n",
    "Eth = 3*k*T/2\n",
    "\n",
    "print('𝐸ₜₕ = {:.2e} erg'.format(Eth))"
   ]
  },
  {
   "cell_type": "markdown",
   "metadata": {},
   "source": [
    "Plugging our result for $n_e$ into (C), we find:"
   ]
  },
  {
   "cell_type": "code",
   "execution_count": 3,
   "metadata": {},
   "outputs": [
    {
     "name": "stdout",
     "output_type": "stream",
     "text": [
      "𝐸_F    = 2.57e-07 erg\n",
      "𝐸ₜₕ/𝐸_F = 8.18e-03\n"
     ]
    }
   ],
   "source": [
    "import numpy as np\n",
    "\n",
    "h = 6.6e-27 # erg*s\n",
    "m_e = 9.1e-28 # g\n",
    "E_F = (3*n_e/np.pi)**(2/3)*h**2/8/m_e\n",
    "\n",
    "print('𝐸_F    = {:.2e} erg'.format(E_F))\n",
    "print('𝐸ₜₕ/𝐸_F = {:.2e}'.format(Eth/E_F))"
   ]
  },
  {
   "cell_type": "markdown",
   "metadata": {},
   "source": [
    "\\begin{equation}\n",
    "\\boxed{\\frac{E_\\textrm{th}}{E_\\textrm{F}} \\approx 8.18 \\times 10^{-3}},\n",
    "\\end{equation}\n",
    "\n",
    "thus we see electrons inside a white dwarf are indeed degenerate."
   ]
  },
  {
   "cell_type": "markdown",
   "metadata": {},
   "source": [
    "## Chapter 4, Problem 2"
   ]
  },
  {
   "cell_type": "markdown",
   "metadata": {},
   "source": [
    "### a.\n",
    "\n",
    "The white-dwarf luminosity depends primarily on temperature as \n",
    "\n",
    "\\begin{align}\n",
    "L \\propto T^4.\n",
    "\\tag{F}\n",
    "\\end{align}\n",
    "\n",
    "Differentiating $L$ with respect to the total population $N$, using the chain rule, yields\n",
    "\n",
    "\\begin{align}\n",
    "\\frac{dL}{dN} &\\sim \\frac{dL}{dT}\\frac{dT}{dt}\\frac{dt}{dN} \\\\\n",
    "&\\sim 4T^3\\frac{dT}{dt}\\frac{dt}{dN}.\n",
    "\\end{align}\n",
    "\n",
    "From Eq. 4.57, the white-dwarf cooling rate can be roughly approximated as $dT/dt \\propto T^4$. Thus, ignoring constants,\n",
    "\n",
    "\\begin{align}\n",
    "\\frac{dL}{dN} &\\sim T^3T^4\\frac{dt}{dN} \\\\\n",
    "&\\sim T^7\\frac{dt}{dN}.\n",
    "\\end{align}\n",
    "\n",
    "From (F), $T \\sim L^{1/4}$. Plugging this in and then reciprocating both sides yields\n",
    "\n",
    "\\begin{align}\n",
    "\\frac{dL}{dN} &\\sim L^{7/4}\\frac{dt}{dN} \\\\\n",
    "\\frac{dN}{dL} &\\sim L^{-7/4}\\frac{dN}{dt}.\n",
    "\\end{align}\n",
    "\n",
    "If we assume that a constant rate of star formation leads to a constant rate of white-dwarf formation, from stars that complete their evolution, then $dN/dt$ would be constant. Thus,\n",
    "\n",
    "\\begin{equation}\n",
    "\\boxed{ \\frac{dN}{dL} \\sim L^{-7/4} }.\n",
    "\\tag{G}\n",
    "\\end{equation}"
   ]
  },
  {
   "cell_type": "markdown",
   "metadata": {},
   "source": [
    "### b.\n",
    "\n",
    "From Eq. 4.56,\n",
    "\n",
    "\\begin{equation}\n",
    "L = 4\\pi r_\\textrm{wd}^2\\sigma T_\\textrm{E}^4,\n",
    "\\tag{H}\n",
    "\\end{equation}\n",
    "\n",
    "where $T_\\textrm{E}$ is the effective temperature of the white-dwarf photosphere.  Since the Universe has a finite age, the oldest white dwarfs are no cooler than $T_\\textrm{E} \\sim 4000 \\textrm{ K}$.  If the most common white dwarfs have a radius $r_\\textrm{wd} \\sim 8500 \\textrm{ km}$, then the low-luminosity cutoff in the white-dwarf luminosity function can be evaluated as follows:"
   ]
  },
  {
   "cell_type": "code",
   "execution_count": 4,
   "metadata": {},
   "outputs": [
    {
     "name": "stdout",
     "output_type": "stream",
     "text": [
      "𝐿 ~ 3e-05 𝐿sun\n"
     ]
    }
   ],
   "source": [
    "km    = 1e5     # cm\n",
    "r_wd  = 8500*km # cm\n",
    "sigma = 5.7e-5  # erg/cm^2/s/K^4\n",
    "Teff  = 4000    # K\n",
    "Lsun  = 3.8e33  # erg/s\n",
    "L     = 4*np.pi*r_wd**2*sigma*Teff**4 # erg/s\n",
    "\n",
    "print('𝐿 ~ {:.0e} 𝐿sun'.format(L/Lsun))"
   ]
  },
  {
   "cell_type": "markdown",
   "metadata": {},
   "source": [
    "\\begin{equation}\n",
    "\\boxed{L_\\textrm{cutoff} \\sim 3 \\times 10^{-5} L_\\odot}.\n",
    "\\end{equation}"
   ]
  }
 ],
 "metadata": {
  "kernelspec": {
   "display_name": "REBOUNDx (3.1.0)",
   "language": "python",
   "name": "rebx-3.1.0"
  },
  "language_info": {
   "codemirror_mode": {
    "name": "ipython",
    "version": 3
   },
   "file_extension": ".py",
   "mimetype": "text/x-python",
   "name": "python",
   "nbconvert_exporter": "python",
   "pygments_lexer": "ipython3",
   "version": "3.8.3"
  },
  "widgets": {
   "application/vnd.jupyter.widget-state+json": {
    "state": {},
    "version_major": 2,
    "version_minor": 0
   }
  }
 },
 "nbformat": 4,
 "nbformat_minor": 4
}
