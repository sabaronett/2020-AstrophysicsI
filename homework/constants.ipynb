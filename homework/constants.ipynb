{
 "cells": [
  {
   "cell_type": "markdown",
   "metadata": {},
   "source": [
    "# Constants and Units"
   ]
  },
  {
   "cell_type": "code",
   "execution_count": null,
   "metadata": {},
   "outputs": [],
   "source": [
    "G = 6.7e-8 # erg*cm/g^2\n",
    "c = 3e10 # cm/s\n",
    "h = 6.6e-27 # erg*s\n",
    "hbar = 1.05e-27 # erg*s\n",
    "k = 1.4e-16 # erg/K\n",
    "k = 8.6e-5 # eV/K\n",
    "sigma = 5.7e-5 # erg/cm^2/s/K^4\n",
    "a = 7.6e-15 # erg/cm^3/K^4\n",
    "m_p = 1.7e-24 # g\n",
    "m_e = 9.1e-28 # g\n",
    "e = 4.8e-10 # esu\n",
    "eV = 1.6e-12 # erg\n",
    "sigma_T = 6.7e-25 # cm^2\n",
    "l_max = 2900/T # Å 10^4 K\n",
    "hnu_max = 2.4*T # eV/10^4 K\n",
    "angstrom = 10e-8 # cm\n",
    "Msun = 2e33 # g\n",
    "Lsun = 3.8e33 # erg/s\n",
    "rsun = 7e10 # cm\n",
    "AU = 1.5e13 # cm\n",
    "Mjup = 1.9e30 # g\n",
    "rjup = 7e9 # cm\n",
    "djup = 5.2*AU = 7.8e13 # cm\n",
    "Mearth = 6e27 # g\n",
    "rearth = 6.4e8 # cm\n",
    "Mmoon = 7.4e25 # g\n",
    "rmoon = 1.7e8 # cm\n",
    "dmoon = 3.8e10 # cm\n",
    "pc = 3.1e18 # cm\n",
    "yr = 3.15e7 # s"
   ]
  }
 ],
 "metadata": {
  "kernelspec": {
   "display_name": "Python 3",
   "language": "python",
   "name": "python3"
  },
  "language_info": {
   "codemirror_mode": {
    "name": "ipython",
    "version": 3
   },
   "file_extension": ".py",
   "mimetype": "text/x-python",
   "name": "python",
   "nbconvert_exporter": "python",
   "pygments_lexer": "ipython3",
   "version": "3.8.3"
  },
  "widgets": {
   "application/vnd.jupyter.widget-state+json": {
    "state": {},
    "version_major": 2,
    "version_minor": 0
   }
  }
 },
 "nbformat": 4,
 "nbformat_minor": 4
}
