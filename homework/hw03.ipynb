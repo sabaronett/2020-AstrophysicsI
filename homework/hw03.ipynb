{
 "cells": [
  {
   "cell_type": "markdown",
   "metadata": {},
   "source": [
    "# Homework #3\n",
    "|Author| Stanley A. Baronett|\n",
    "|--|-------------------------------|\n",
    "|Created | 9/22/2020|\n",
    "|Updated | 9/24/2020|\n",
    "\n",
    "All references to chapter problems, numbered equations, and page numbers are from _Astrophysics in a Nutshell: Second Edition_ by Dan Maoz."
   ]
  },
  {
   "cell_type": "markdown",
   "metadata": {},
   "source": [
    "## Chapter 3, Problem 2"
   ]
  },
  {
   "cell_type": "markdown",
   "metadata": {},
   "source": [
    "From Eq. 3.76, \n",
    "\n",
    "\\begin{align}\n",
    "P = P_\\textrm{g} + P_\\textrm{rad} = \\dfrac{\\rho kT}{\\bar m} + \\dfrac{1}{3}aT^4,\n",
    "\\tag{A}\n",
    "\\end{align}\n",
    "\n",
    "we can separately define the pressure inside a normal star, due to _gas_ ($P_\\textrm{g}$) and _radiation_ ($P_\\textrm{rad}$), as follows:"
   ]
  },
  {
   "cell_type": "code",
   "execution_count": 23,
   "metadata": {},
   "outputs": [],
   "source": [
    "def gas_press(rho, T, mbar):\n",
    "    \"\"\"\n",
    "    The gas pressure equation of state (Eq. 3.69), where 'rho' is the density,\n",
    "    'k' is Boltzmann's constant, 'T' is the temperature, and 'mbar' is the mean\n",
    "    particle mass.\n",
    "    \"\"\"\n",
    "    k = 1.4e-16         # erg/K\n",
    "    return rho*k*T/mbar # in cgs units barye (Ba = dyn/cm^2)\n",
    "\n",
    "def rad_press(T):\n",
    "    \"\"\"\n",
    "    The radiation pressure equation of state (Eq. 3.75), where 'a' is the\n",
    "    radiation constant, and 'T' is the temperature.\n",
    "    \"\"\"\n",
    "    a = 7.6e-15     # radiation constant in erg/cm^3/K^4\n",
    "    return a*T**4/3 # in cgs units barye (Ba = dyn/cm^2)"
   ]
  },
  {
   "cell_type": "markdown",
   "metadata": {},
   "source": [
    "Using appropriate solar parameters, e.g., mean density ($\\bar \\rho$), _virial_ temperature ($T_\\textrm{vir}$), and mean particle mass ($\\bar m$), we can calculate the typical gas and radiation pressures throughout the Sun. \"For solar abundances, $X = 0.71, Y=0.27, Z=0.02$, and therefore $\\bar m/m_\\textrm{H} = 0.61$.\" (p. 43)"
   ]
  },
  {
   "cell_type": "code",
   "execution_count": 21,
   "metadata": {},
   "outputs": [
    {
     "name": "stdout",
     "output_type": "stream",
     "text": [
      "Throughout the Sun (on average):\n",
      "Pg      = 7.56e+14 Ba\n",
      "Prad    = 6.49e+11 Ba\n",
      "Pg/Prad = 1.17e+03\n"
     ]
    }
   ],
   "source": [
    "# Sun's general parameters\n",
    "rhobar = 1.4       # g/cm^3 (Eq. 3.4)\n",
    "Tvir   = 4e6       # virial temp. in K (p. 35)\n",
    "m_H    = 1.7e-24   # mass of H atom in g\n",
    "mbar   = 0.61*m_H  # mean particle mass in g (p. 43)\n",
    "\n",
    "Pg = gas_press(rhobar, Tvir, mbar)\n",
    "Prad = rad_press(Tvir)\n",
    "\n",
    "print('Throughout the Sun (on average):')\n",
    "print('Pg      = {:.2e} Ba'.format(Pg))\n",
    "print('Prad    = {:.2e} Ba'.format(Prad))\n",
    "print('Pg/Prad = {:.2e}'.format(Pg/Prad))"
   ]
  },
  {
   "cell_type": "markdown",
   "metadata": {},
   "source": [
    "Thus, the __kinetic pressure dominates__ that from radiation __by 3 orders of magnitude__.\n",
    "\n",
    "Similarly, using the central density ($\\rho_\\textrm{c}$) and temperature ($T_\\textrm{c}$) of the Sun, we can calculate the gas and radiation pressures in the core. \"In the central regions of the Sun, about half of the hydrogen has already been converted into helium by nuclear reactions, and as a result $X = 0.34, Y=0.64, Z=0.02$, giving $\\bar m/m_\\textrm{H} = 0.85$.\" (p. 43)"
   ]
  },
  {
   "cell_type": "code",
   "execution_count": 24,
   "metadata": {},
   "outputs": [
    {
     "name": "stdout",
     "output_type": "stream",
     "text": [
      "In the Sun's core (central regions):\n",
      "Pg      = 2.18e+16 Ba\n",
      "Prad    = 1.28e+10 Ba\n",
      "Pg/Prad = 1.70e+06\n"
     ]
    }
   ],
   "source": [
    "# Sun's core parameters\n",
    "rho_c  = 150      # g/cm^3 (Eq. 3.10)\n",
    "Tc     = 1.5e6    # K      (Eq. 3.11)\n",
    "mbar_c = 0.85*m_H # mean particle mass in g (p. 43)\n",
    "\n",
    "Pg = gas_press(rho_c, Tc, mbar_c)\n",
    "Prad = rad_press(Tc)\n",
    "\n",
    "print('In the Sun\\'s core (central regions):')\n",
    "print('Pg      = {:.2e} Ba'.format(Pg))\n",
    "print('Prad    = {:.2e} Ba'.format(Prad))\n",
    "print('Pg/Prad = {:.2e}'.format(Pg/Prad))"
   ]
  },
  {
   "cell_type": "markdown",
   "metadata": {},
   "source": [
    "Even in the core, where the internal temperature is about $10^7$ K, the kinetic pressure dominates that from radiation, this time by __6 orders of magnitude__."
   ]
  },
  {
   "cell_type": "markdown",
   "metadata": {},
   "source": [
    "## Chapter 3, Problem 4"
   ]
  },
  {
   "cell_type": "markdown",
   "metadata": {},
   "source": [
    "Consider a hypothetical star of radius $R$, with density $\\rho$ that is constant, i.e., independent of radius. The star is composed of a classical, nonrelativistic, ideal gas of fully ionized hydrogen."
   ]
  },
  {
   "cell_type": "markdown",
   "metadata": {},
   "source": [
    "### a.\n",
    "From Eq. 3.56, the differential equation of stellar structure for pressure is\n",
    "\n",
    "\\begin{align}\n",
    "\\dfrac{dP(r)}{dr} = -\\dfrac{GM(r)\\rho}{r^2}\n",
    "\\tag{B}\n",
    "\\end{align}\n",
    "\n",
    "Solving for the pressure profile, $P(r)$,\n",
    "\n",
    "\\begin{align}\n",
    "\\int_r^RdP(r) &= -\\int_r^R\\dfrac{GM(r)\\rho}{r^2}dr \\\\\n",
    "P(R) - P(r) &= -G\\rho\\int_r^R\\dfrac{M(r)}{r^2}dr.\n",
    "\\end{align}\n",
    "\n",
    "Applying the boundary condition $P(R) = 0$,\n",
    "\n",
    "\\begin{align}\n",
    "P(r) &= G\\rho\\int_r^R\\dfrac{M(r)}{r^2}dr.\n",
    "\\tag{C}\n",
    "\\end{align}\n",
    "\n",
    "Since $\\rho$ is constant,\n",
    "\n",
    "\\begin{align}\n",
    "M(r) = \\rho V(r) = \\rho\\dfrac{4}{3}\\pi r^3.\n",
    "\\end{align}\n",
    "\n",
    "Substituting into Eq. C,\n",
    "\n",
    "\\begin{align}\n",
    "P(r) &= G\\rho\\int_r^R\\dfrac{4\\rho\\pi r^3}{3r^2}dr \\\\\n",
    "     &= \\dfrac{4}{3}\\pi G\\rho^2 \\int_r^R rdr \\\\\n",
    "     &= \\dfrac{2\\pi G\\rho^2}{3}\\left[r^2\\right|_r^R \\\\\n",
    "    &= \\boxed{\\dfrac{2\\pi}{3}G\\rho^2(R^2 - r^2)}\n",
    "\\tag{D}\n",
    "\\end{align}"
   ]
  },
  {
   "cell_type": "markdown",
   "metadata": {},
   "source": [
    "### b.\n",
    "\n",
    "From Eq. 3.69, the gas pressure from the equation of state of a classical, nonrelativistic, ideal gas, is\n",
    "\n",
    "\\begin{align}\n",
    "P_g = \\dfrac{\\rho}{\\bar m}kT,\n",
    "\\tag{E}\n",
    "\\end{align}\n",
    "\n",
    "where, from Eq. 3.70, $\\bar m = m_\\textrm{H}/2$ is the mean particle mass for completely ionized pure hydrogen. Setting this equal to our expression from part __a__ (Eq. D) and solving for $T$, we find the temperature profile as\n",
    "\n",
    "\\begin{align}\n",
    "\\dfrac{2\\rho}{m_\\textrm{H}}kT(r) &= \\dfrac{2\\pi}{3}G\\rho^2(R^2 - r^2) \\\\\n",
    "T(r) &= \\boxed{\\dfrac{\\pi}{3k}Gm_\\textrm{H}\\rho(R^2 - r^2)}.\n",
    "\\tag{F}\n",
    "\\end{align}"
   ]
  },
  {
   "cell_type": "markdown",
   "metadata": {},
   "source": [
    "### c.\n",
    "\n",
    "If we assume the nuclear energy production rate depends on temperature as $\\epsilon \\sim T^4$, then\n",
    "\n",
    "\\begin{align}\n",
    "\\epsilon \\sim (R^2 - r^2)^4,\n",
    "\\tag{G}\n",
    "\\end{align}\n",
    "\n",
    "where we've ignored the constants of proportionality in Eq. F. It's central value, at $r = 0$, is\n",
    "\n",
    "\\begin{align}\n",
    "\\epsilon_\\textrm{c} &\\sim R^8\n",
    "\\tag{H}\n",
    "\\end{align}\n",
    "\n",
    "The radius at which $\\epsilon$ decreases to $0.1\\epsilon_\\textrm{c}$ is\n",
    "\n",
    "\\begin{align}\n",
    "0.1\\epsilon_\\textrm{c} &\\sim (R^2 - r^2)^4 \\\\\n",
    "0.1R^8 &\\sim R^8 \\left( 1 - \\dfrac{r^2}{R^2} \\right) \\\\\n",
    "(0.1)^{1/4} &\\sim 1 - \\dfrac{r^2}{R^2} \\\\\n",
    "r &\\sim \\left( 1 - (0.1)^{1/4} \\right)^{1/2}R.\n",
    "\\tag{I}\n",
    "\\end{align}"
   ]
  },
  {
   "cell_type": "code",
   "execution_count": 25,
   "metadata": {},
   "outputs": [
    {
     "data": {
      "text/plain": [
       "0.6615577637739964"
      ]
     },
     "execution_count": 25,
     "metadata": {},
     "output_type": "execute_result"
    }
   ],
   "source": [
    "(1 - 0.1**(1/4))**(1/2)"
   ]
  },
  {
   "cell_type": "markdown",
   "metadata": {},
   "source": [
    "\\begin{equation}\n",
    "\\boxed{r(\\epsilon = 0.1\\epsilon_\\textrm{c}) \\sim 0.66R}\n",
    "\\tag{J}\n",
    "\\end{equation}"
   ]
  },
  {
   "cell_type": "code",
   "execution_count": 26,
   "metadata": {},
   "outputs": [
    {
     "data": {
      "text/plain": [
       "0.28749600000000003"
      ]
     },
     "execution_count": 26,
     "metadata": {},
     "output_type": "execute_result"
    }
   ],
   "source": [
    "0.66**3"
   ]
  },
  {
   "cell_type": "markdown",
   "metadata": {},
   "source": [
    "Since the volume of a sphere is $V = \\frac{3}{4}\\pi r^3$, the fraction of the star's total volume included within this radius is\n",
    "\n",
    "\\begin{equation}\n",
    "\\boxed{0.66^3 \\approx 29\\%}\n",
    "\\tag{K}\n",
    "\\end{equation}"
   ]
  },
  {
   "cell_type": "markdown",
   "metadata": {},
   "source": [
    "## Chapter 3, Problem 6"
   ]
  },
  {
   "cell_type": "markdown",
   "metadata": {},
   "source": [
    "Consider a star of mass $M = 10M_\\odot$, composed entirely of fully ionized $^{12}\\textrm{C}$. Its core temperature is $T_\\textrm{c} = 6 \\times 10^8 \\,\\textrm{K}$ (compared to $T_{\\textrm{c},\\odot} = 1.5 \\times 10^7 \\,\\textrm{K}$ for the Sun)."
   ]
  },
  {
   "cell_type": "markdown",
   "metadata": {},
   "source": [
    "### a.\n",
    "\n"
   ]
  }
 ],
 "metadata": {
  "kernelspec": {
   "display_name": "REBOUNDx (3.1.0)",
   "language": "python",
   "name": "rebx-3.1.0"
  },
  "language_info": {
   "codemirror_mode": {
    "name": "ipython",
    "version": 3
   },
   "file_extension": ".py",
   "mimetype": "text/x-python",
   "name": "python",
   "nbconvert_exporter": "python",
   "pygments_lexer": "ipython3",
   "version": "3.8.3"
  },
  "widgets": {
   "application/vnd.jupyter.widget-state+json": {
    "state": {},
    "version_major": 2,
    "version_minor": 0
   }
  }
 },
 "nbformat": 4,
 "nbformat_minor": 4
}
