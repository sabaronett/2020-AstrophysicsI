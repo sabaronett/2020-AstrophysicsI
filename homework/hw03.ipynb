{
 "cells": [
  {
   "cell_type": "markdown",
   "metadata": {},
   "source": [
    "# Homework #3\n",
    "|Author| Stanley A. Baronett|\n",
    "|--|-------------------------------|\n",
    "|Created | 9/22/2020|\n",
    "|Updated | 9/22/2020|\n",
    "\n",
    "All references to chapter problems, numbered equations, and page numbers are from _Astrophysics in a Nutshell: Second Edition_ by Dan Maoz."
   ]
  },
  {
   "cell_type": "markdown",
   "metadata": {},
   "source": [
    "## Chapter 3, Problem 2"
   ]
  },
  {
   "cell_type": "markdown",
   "metadata": {},
   "source": [
    "From Eq. 3.76, \n",
    "\n",
    "\\begin{align}\n",
    "P = P_\\textrm{g} + P_\\textrm{rad} = \\dfrac{\\rho kT}{\\bar m} + \\dfrac{1}{3}aT^4,\n",
    "\\tag{A}\n",
    "\\end{align}\n",
    "\n",
    "we can separately define the pressure inside a normal star, due to _gas_ ($P_\\textrm{g}$) and _radiation_ ($P_\\textrm{rad}$), as follows:"
   ]
  },
  {
   "cell_type": "code",
   "execution_count": 23,
   "metadata": {},
   "outputs": [],
   "source": [
    "def gas_press(rho, T, mbar):\n",
    "    \"\"\"\n",
    "    The gas pressure equation of state (Eq. 3.69), where 'rho' is the density,\n",
    "    'k' is Boltzmann's constant, 'T' is the temperature, and 'mbar' is the mean\n",
    "    particle mass.\n",
    "    \"\"\"\n",
    "    k = 1.4e-16         # erg/K\n",
    "    return rho*k*T/mbar # in cgs units barye (Ba = dyn/cm^2)\n",
    "\n",
    "def rad_press(T):\n",
    "    \"\"\"\n",
    "    The radiation pressure equation of state (Eq. 3.75), where 'a' is the\n",
    "    radiation constant, and 'T' is the temperature.\n",
    "    \"\"\"\n",
    "    a = 7.6e-15     # radiation constant in erg/cm^3/K^4\n",
    "    return a*T**4/3 # in cgs units barye (Ba = dyn/cm^2)"
   ]
  },
  {
   "cell_type": "markdown",
   "metadata": {},
   "source": [
    "Using appropriate solar parameters, e.g., mean density ($\\bar \\rho$), _virial_ temperature ($T_\\textrm{vir}$), and mean particle mass ($\\bar m$), we can calculate the typical gas and radiation pressures throughout the Sun. \"For solar abundances, $X = 0.71, Y=0.27, Z=0.02$, and therefore $\\bar m/m_\\textrm{H} = 0.61$.\" (p. 43)"
   ]
  },
  {
   "cell_type": "code",
   "execution_count": 21,
   "metadata": {},
   "outputs": [
    {
     "name": "stdout",
     "output_type": "stream",
     "text": [
      "Throughout the Sun (on average):\n",
      "Pg      = 7.56e+14 Ba\n",
      "Prad    = 6.49e+11 Ba\n",
      "Pg/Prad = 1.17e+03\n"
     ]
    }
   ],
   "source": [
    "# Sun's general parameters\n",
    "rhobar = 1.4       # g/cm^3 (Eq. 3.4)\n",
    "Tvir   = 4e6       # virial temp. in K (p. 35)\n",
    "m_H    = 1.7e-24   # mass of H atom in g\n",
    "mbar   = 0.61*m_H  # mean particle mass in g (p. 43)\n",
    "\n",
    "Pg = gas_press(rhobar, Tvir, mbar)\n",
    "Prad = rad_press(Tvir)\n",
    "\n",
    "print('Throughout the Sun (on average):')\n",
    "print('Pg      = {:.2e} Ba'.format(Pg))\n",
    "print('Prad    = {:.2e} Ba'.format(Prad))\n",
    "print('Pg/Prad = {:.2e}'.format(Pg/Prad))"
   ]
  },
  {
   "cell_type": "markdown",
   "metadata": {},
   "source": [
    "Thus, the __kinetic pressure dominates__ that from radiation __by 3 orders of magnitude__.\n",
    "\n",
    "Similarly, using the central density ($\\rho_\\textrm{c}$) and temperature ($T_\\textrm{c}$) of the Sun, we can calculate the gas and radiation pressures in the core. \"In the central regions of the Sun, about half of the hydrogen has already been converted into helium by nuclear reactions, and as a result $X = 0.34, Y=0.64, Z=0.02$, giving $\\bar m/m_\\textrm{H} = 0.85$.\" (p. 43)"
   ]
  },
  {
   "cell_type": "code",
   "execution_count": 24,
   "metadata": {},
   "outputs": [
    {
     "name": "stdout",
     "output_type": "stream",
     "text": [
      "In the Sun's core (central regions):\n",
      "Pg      = 2.18e+16 Ba\n",
      "Prad    = 1.28e+10 Ba\n",
      "Pg/Prad = 1.70e+06\n"
     ]
    }
   ],
   "source": [
    "# Sun's core parameters\n",
    "rho_c  = 150      # g/cm^3 (Eq. 3.10)\n",
    "Tc     = 1.5e6    # K      (Eq. 3.11)\n",
    "mbar_c = 0.85*m_H # mean particle mass in g (p. 43)\n",
    "\n",
    "Pg = gas_press(rho_c, Tc, mbar_c)\n",
    "Prad = rad_press(Tc)\n",
    "\n",
    "print('In the Sun\\'s core (central regions):')\n",
    "print('Pg      = {:.2e} Ba'.format(Pg))\n",
    "print('Prad    = {:.2e} Ba'.format(Prad))\n",
    "print('Pg/Prad = {:.2e}'.format(Pg/Prad))"
   ]
  },
  {
   "cell_type": "markdown",
   "metadata": {},
   "source": [
    "Even in the core, where the internal temperature is about $10^7$ K, the kinetic pressure dominates that from radiation, this time by __6 orders of magnitude__."
   ]
  },
  {
   "cell_type": "markdown",
   "metadata": {},
   "source": [
    "## Chapter 3, Problem 4"
   ]
  }
 ],
 "metadata": {
  "kernelspec": {
   "display_name": "REBOUNDx (3.1.0)",
   "language": "python",
   "name": "rebx-3.1.0"
  },
  "language_info": {
   "codemirror_mode": {
    "name": "ipython",
    "version": 3
   },
   "file_extension": ".py",
   "mimetype": "text/x-python",
   "name": "python",
   "nbconvert_exporter": "python",
   "pygments_lexer": "ipython3",
   "version": "3.8.3"
  },
  "widgets": {
   "application/vnd.jupyter.widget-state+json": {
    "state": {},
    "version_major": 2,
    "version_minor": 0
   }
  }
 },
 "nbformat": 4,
 "nbformat_minor": 4
}
