{
 "cells": [
  {
   "cell_type": "markdown",
   "metadata": {},
   "source": [
    "# Homework #9\n",
    "|Author| Stanley A. Baronett|\n",
    "|--|-------------------------------|\n",
    "|Created | 11/10/2020|\n",
    "|Updated | 11/12/2020|\n",
    "\n",
    "All references to chapter problems, numbered equations, and page numbers are from _Astrophysics in a Nutshell: Second Edition_ by Dan Maoz."
   ]
  },
  {
   "cell_type": "markdown",
   "metadata": {},
   "source": [
    "## Chapter 8, Problem 3\n",
    "Assume $0.001$ of CMB photons are _Compton upscattered_ by hot electrons in a $2 \\times 10^{14} M_\\odot$ galaxy cluster, of which $15\\%$ of the mass is in the hot, fully ionized hydrogen gas."
   ]
  },
  {
   "cell_type": "markdown",
   "metadata": {},
   "source": [
    "### a.\n",
    "\n",
    "The Compton scattering probability along a photon path length $x$ can be expressed as\n",
    "\n",
    "\\begin{align}\n",
    "\\textrm{P}_\\textrm{cs} &= n_e\\sigma_\\textrm{T}x,\n",
    "\\tag{A}\n",
    "\\end{align}\n",
    "\n",
    "where $n_e$ is the electron density, and the Thomson cross section $\\sigma_\\textrm{T}$ is used to represent the Compton scattering cross section.  Assuming the cluster is spherical, with diameter equal to the path length $x$ and of uniform density, we can express a constant electron density as\n",
    "\n",
    "\\begin{align}\n",
    "n_e = \\frac{M_\\textrm{gas}}{\\bar m V_\\textrm{gas}},\n",
    "\\tag{B}\n",
    "\\end{align}\n",
    "\n",
    "where,\n",
    "\n",
    "\\begin{align}\n",
    "V_\\textrm{gas} &= \\frac{4}{3}\\pi\\left( \\frac{x}{2} \\right)^3\\\\\n",
    "&= \\frac{\\pi}{6}x^3,\n",
    "\\tag{C}\n",
    "\\end{align}\n",
    "\n",
    "is the volume of the gas in the cluster.  Since the gas is fully ionized hydrogen, i.e., $\\bar m = m_p$, substituting (B) and (C) into (A) and solving for $x$, we find,\n",
    "\n",
    "\\begin{align}\n",
    "\\textrm{P}_\\textrm{cs} &= \\frac{6M_\\textrm{gas}}{\\pi m_p x^3}\\sigma_\\textrm{T}x\\\\\n",
    "x &= \\left( \\frac{6M_\\textrm{gas}\\sigma_\\textrm{T}}{\\pi m_p \\textrm{P}_\\textrm{cs}} \\right)^{1/2}.\n",
    "\\tag{D}\n",
    "\\end{align}\n",
    "\n",
    "Given that $\\textrm{P}_\\textrm{cs} = 0.001$ of background photons are scattered, and $M_\\textrm{gas} = 0.15(2 \\times 10^{14} M_\\odot)$, we can evaluate the diameter of the cluster as follows:"
   ]
  },
  {
   "cell_type": "code",
   "execution_count": 1,
   "metadata": {},
   "outputs": [
    {
     "name": "stdout",
     "output_type": "stream",
     "text": [
      "𝑥 = 6.7e+24 cm = 2.17 Mpc\n"
     ]
    }
   ],
   "source": [
    "import numpy as np\n",
    "\n",
    "Msun = 2e33           # g\n",
    "Mgas = 0.15*2e14*Msun # g\n",
    "m_p = 1.7e-24         # g\n",
    "P_cs = 0.001\n",
    "sigma_T = 6.7e-25 # cm²\n",
    "pc = 3.1e18       # cm\n",
    "\n",
    "x = (6*Mgas*sigma_T/np.pi/m_p/P_cs)**(1/2)\n",
    "\n",
    "print('𝑥 = {:.1e} cm = {:.2f} Mpc'.format(x, x/pc/1e6))"
   ]
  },
  {
   "cell_type": "markdown",
   "metadata": {},
   "source": [
    "\\begin{equation}\n",
    "\\boxed{ x = 2.1 \\textrm{ Mpc} }\n",
    "\\end{equation}"
   ]
  },
  {
   "cell_type": "markdown",
   "metadata": {},
   "source": [
    "### b.\n",
    "\n",
    "For distant objects, in the small angle approximation,\n",
    "\n",
    "\\begin{align}\n",
    "\\theta = \\frac{d}{D},\n",
    "\\tag{E}\n",
    "\\end{align}\n",
    "\n",
    "where $\\theta$ is the objects angular diameter in the sky, $d$ is its physical diameter, and $D$ is the distance to the object.  If the cluster's angular diameter is $\\theta = 1°$, and $d = x$, then we can calculate its distance as follows:"
   ]
  },
  {
   "cell_type": "code",
   "execution_count": 2,
   "metadata": {},
   "outputs": [
    {
     "name": "stdout",
     "output_type": "stream",
     "text": [
      "𝐷 = 124 Mpc\n"
     ]
    }
   ],
   "source": [
    "theta = 1*np.pi/180 # rad\n",
    "D = x/theta\n",
    "\n",
    "print('𝐷 = {:.0f} Mpc'.format(D/pc/1e6))"
   ]
  },
  {
   "cell_type": "markdown",
   "metadata": {},
   "source": [
    "\\begin{equation}\n",
    "\\boxed{ D = 120 \\textrm{ Mpc} }\n",
    "\\end{equation}"
   ]
  },
  {
   "cell_type": "markdown",
   "metadata": {},
   "source": [
    "### c.\n",
    "\n",
    "The __Hubble–Lemaître law__, from Eq. 8.18, is\n",
    "\n",
    "\\begin{align}\n",
    "v = H_0D.\n",
    "\\tag{F}\n",
    "\\end{align}\n",
    "\n",
    "Thus, if the cluster's recession velocity is $v = 8400 \\textrm{ km/s}$, we can evaluate the Hubble parameter as follows:"
   ]
  },
  {
   "cell_type": "code",
   "execution_count": 3,
   "metadata": {},
   "outputs": [
    {
     "name": "stdout",
     "output_type": "stream",
     "text": [
      "𝐻₀ = 68 km/s/Mpc\n"
     ]
    }
   ],
   "source": [
    "Dpc = D/pc/1e6 # Mpc\n",
    "v = 8400       # km/s\n",
    "H0 = v/Dpc     # km/s/Mpc\n",
    "\n",
    "print('𝐻₀ = {:.0f} km/s/Mpc'.format(H0))"
   ]
  },
  {
   "cell_type": "markdown",
   "metadata": {},
   "source": [
    "\\begin{equation}\n",
    "\\boxed{ H_0 = 70 \\textrm{ km/s/Mpc} }\n",
    "\\end{equation}"
   ]
  },
  {
   "cell_type": "markdown",
   "metadata": {},
   "source": [
    "## Chapter 9, Problem 1"
   ]
  },
  {
   "cell_type": "markdown",
   "metadata": {},
   "source": [
    "Since light moves along _null geodesics_, defined as paths along which $ds = 0$, and therefore in the FLRW metric, light reaching us from a comoving coordinate $r$ will obey\n",
    "\n",
    "\\begin{align}\n",
    "0 = c^2dt^2 - R(t)^2\\frac{dr^2}{1 - kr^2}.\n",
    "\\tag{A}\n",
    "\\end{align}\n",
    "\n",
    "For a matter-dominated $k = 0$ universe with no cosmological constant, an appropriate scale factor is $R(t) = R_0(t/t_0)^{2/3}$, where $R_0$ is the scale factor today, and $t_0$ is the present age of the Universe. Thus (A) becomes\n",
    "\n",
    "\\begin{align}\n",
    "R_0^2\\left( \\frac{t}{t_0} \\right)^{4/3} dr^2 &= c^2dt^2 \\\\\n",
    "R_0 dr &= c \\left( \\frac{t_0}{t} \\right)^{2/3} dt.\n",
    "\\tag{B}\n",
    "\\end{align}\n",
    "\n",
    "Integrating both sides, from $r=0$ to $r_h$ (the comoving radial coordinate of the particle horizon), and from $t=0$ (the Big Bang) to $t_0$ (today), we find the current proper distance to our particle horizon is\n",
    "\n",
    "\\begin{align}\n",
    "R_0 \\int_0^{r_h}dr = ct_0^{2/3} \\int_0^{t_0}t^{-2/3} dt \\\\\n",
    "R_0 r_h = ct_0^{2/3}\\left(3t_0^{1/3}\\right)\n",
    "\\end{align}\n",
    "\n",
    "\\begin{align}\n",
    "\\boxed{ r_hR_0 = 3ct_0 }.\n",
    "\\end{align}\n",
    "\n",
    "In other words, more and more distant regions of the Universe \"enter the horizon\" and become visible as time progresses.  This answer differs from the naively expected result $ct_0$ because with no cosmological constant the Universe is always decelerating, as can be seen from the second, _acceleration Friedmann equation_ (9.28), and therefore was expanding even faster in the past ($t\\rightarrow0$) than now ($t_0$)."
   ]
  },
  {
   "cell_type": "markdown",
   "metadata": {},
   "source": [
    "## Chapter 9, Problem 2"
   ]
  },
  {
   "cell_type": "markdown",
   "metadata": {},
   "source": [
    "With the addition of a _cosmological constant_ $\\Lambda$, the __first Friedmann equation__ (9.95) becomes\n",
    "\n",
    "\\begin{align}\n",
    "\\left( \\frac{\\dot R}{R} \\right)^2 = \\frac{8\\pi}{3}G\\rho - \\frac{kc^2}{R^2} + \\frac{\\Lambda}{3}.\n",
    "\\tag{A}\n",
    "\\end{align}\n",
    "\n",
    "From Eq. 9.106, we can define a dimensionless parameter for $\\Lambda$ as\n",
    "\n",
    "\\begin{align}\n",
    "\\Omega_\\Lambda \\equiv \\frac{\\Lambda}{3H_0^2},\n",
    "\\tag{B}\n",
    "\\end{align}\n",
    "\n",
    "where $H_0 = 70 \\textrm{ km/s/Mpc}$ is the current value of the Hubble parameter.  If $\\Omega_\\Lambda = 1$, then\n",
    "\n",
    "\\begin{align}\n",
    "\\Lambda = 3H_0^2.\n",
    "\\tag{C}\n",
    "\\end{align}\n",
    "\n",
    "Thus, for a $k=0$ universe with $\\Omega_\\Lambda = 1$, (A) becomes\n",
    "\n",
    "\\begin{align}\n",
    "\\left( \\frac{\\dot R}{R} \\right)^2 = \\frac{8\\pi}{3}G\\rho + H_0^2.\n",
    "\\tag{D}\n",
    "\\end{align}\n",
    "\n",
    "Suppose a solution to the Friedmann equations of the form\n",
    "\n",
    "\\begin{align}\n",
    "R(t) = R_0 e^{H_0t},\n",
    "\\tag{E}\n",
    "\\end{align}\n",
    "\n",
    "with time derivatives\n",
    "\n",
    "\\begin{align}\n",
    "\\dot R(t) &= H_0 R_0 e^{H_0t} \\\\\n",
    "\\ddot R(t) &= H_0^2 R_0 e^{H_0t},\n",
    "\\tag{F}\n",
    "\\end{align}\n",
    "\n",
    "where, at $t=0$ our our universe already has a scale $R_0$.  Substituting (E) and (F) into (D) yields\n",
    "\n",
    "\\begin{align}\n",
    "H_0^2 &= \\frac{8\\pi}{3}G\\rho + H_0^2\\\\\n",
    "1 &= \\frac{8\\pi}{3H_0^2}G\\rho + 1\\\\\n",
    "\\frac{8\\pi}{3H_0^2}G\\rho &= 0,\n",
    "\\tag{G}\n",
    "\\end{align}\n",
    "\n",
    "where we've divided both sides by $H_0^2$ in the second step.  But, from Eq. 9.103, our definition of the present critical density for closure is\n",
    "\n",
    "\\begin{align}\n",
    "\\rho_{\\textrm{c},0} = \\frac{3H_0^2}{8\\pi G},\n",
    "\\tag{H}\n",
    "\\end{align}\n",
    "\n",
    "and, from Eq. 9.105,\n",
    "\n",
    "\\begin{align}\n",
    "\\Omega_m \\equiv \\frac{\\rho}{\\rho_\\textrm{c}}.\n",
    "\\tag{I}\n",
    "\\end{align}\n",
    "\n",
    "Substituting (H) then (I) into (G) yields\n",
    "\n",
    "\\begin{align}\n",
    "\\frac{\\rho}{\\rho_{\\textrm{c},0}} = \\Omega_{m,0} = 0.\n",
    "\\tag{J}\n",
    "\\end{align}\n",
    "\n",
    "Therefore, if $k=0$, our universe with $\\Omega_\\Lambda = 1$ and (J) satisfy Eq. 9.108,\n",
    "\n",
    "\\begin{align}\n",
    "\\Omega_m + \\Omega_\\Lambda = 1,\n",
    "\\tag{K}\n",
    "\\end{align}\n",
    "\n",
    "which _always_ holds for any time $t$.\n",
    "\n",
    "Similarly, the __second, acceleration Friedmann equation__ (9.96) is\n",
    "\n",
    "\\begin{align}\n",
    "\\frac{\\ddot R}{R} = -\\frac{4\\pi G}{3c^2}(\\rho c^2 + 3P) + \\frac{\\Lambda}{3}.\n",
    "\\tag{L}\n",
    "\\end{align}\n",
    "\n",
    "This time substituting (C), (E), and (F) into (L) yields,\n",
    "\n",
    "\\begin{align}\n",
    "H_0^2 &= -\\frac{4\\pi G}{3c^2}(\\rho c^2 + 3P) + H_0^2\\\\\n",
    "P &= \\frac{1}{3}\\rho c^2,\n",
    "\\tag{M}\n",
    "\\end{align}\n",
    "\n",
    "which is Eq. 9.38 and Eq. 3.74, i.e., the equation of state in which the radiation pressure equals one-third the energy density that holds for any ultrarelativistic gas.  Therefore, our solution (E) is an exact solution of the Friedmann equations for the specified cosmological parameters.\n",
    "\n",
    "Starting again from (A) of the last problem (Problem 1), where $ds = 0$ for the light reaching us along null geodesics, from a comoving coordinate $r$,\n",
    "\n",
    "\\begin{align}\n",
    "0 = c^2dt^2 - R(t)^2\\frac{dr^2}{1 - kr^2}.\n",
    "\\tag{N}\n",
    "\\end{align}\n",
    "\n",
    "For our $k=0$ universe, substituting (E) into (N), separating variables, and integrating both sides yields the comoving radial coordinate, $r_h$, of galaxies that will be on the particle horizon at a time $t$ in the future:\n",
    "\n",
    "\\begin{align}\n",
    "R_0^2e^{2H_0t}dr^2 &= c^2dt^2 \\\\\n",
    "R_0 \\int_0^{r_h} dr &= c \\int_0^t e^{-H_0t}dt \\\\\n",
    "R_0 r_h &= -\\frac{c}{H_0} \\left[ e^{-H_0t}\\right|_0^t\n",
    "\\end{align}\n",
    "\n",
    "\\begin{equation}\n",
    "\\boxed{ r_h = -\\frac{c}{H_0 R_0}\\left( e^{-H_0t} - 1 \\right) }\n",
    "\\tag{O}\n",
    "\\end{equation}\n",
    "\n",
    "Far in the future, as $t\\rightarrow \\infty$, we see $r_h$ approaches a constant,\n",
    "\n",
    "\\begin{equation}\n",
    "\\lim_{t\\rightarrow \\infty} r_h = \\frac{c}{H_0 R_0},\n",
    "\\tag{P}\n",
    "\\end{equation}\n",
    "\n",
    "and therefore galaxies beyond this $r_h$ will never become visible."
   ]
  }
 ],
 "metadata": {
  "kernelspec": {
   "display_name": "REBOUNDx (3.1.0)",
   "language": "python",
   "name": "rebx-3.1.0"
  },
  "language_info": {
   "codemirror_mode": {
    "name": "ipython",
    "version": 3
   },
   "file_extension": ".py",
   "mimetype": "text/x-python",
   "name": "python",
   "nbconvert_exporter": "python",
   "pygments_lexer": "ipython3",
   "version": "3.8.3"
  },
  "widgets": {
   "application/vnd.jupyter.widget-state+json": {
    "state": {},
    "version_major": 2,
    "version_minor": 0
   }
  }
 },
 "nbformat": 4,
 "nbformat_minor": 4
}
