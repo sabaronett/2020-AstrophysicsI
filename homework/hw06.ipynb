{
 "cells": [
  {
   "cell_type": "markdown",
   "metadata": {},
   "source": [
    "# Homework #6\n",
    "|Author| Stanley A. Baronett|\n",
    "|--|-------------------------------|\n",
    "|Created | 10/15/2020|\n",
    "|Updated | 10/16/2020|\n",
    "\n",
    "All references to chapter problems, numbered equations, and page numbers are from _Astrophysics in a Nutshell: Second Edition_ by Dan Maoz."
   ]
  },
  {
   "cell_type": "markdown",
   "metadata": {},
   "source": [
    "## Chapter 4, Problem 10"
   ]
  },
  {
   "cell_type": "markdown",
   "metadata": {},
   "source": [
    "A compact accreting object of mass $M$ is radiating at the Eddington luminosity (Eq. 4.142) corresponding to that mass,\n",
    "\n",
    "\\begin{align}\n",
    "L_\\textrm{E} = \\frac{4\\pi cGMm_p}{\\sigma_\\textrm{T}} = 1.3 \\times 10^{38} \\textrm{ erg/s}\\frac{M}{M_\\odot}\n",
    "\\tag{A}\n",
    "\\end{align}\n",
    "\n",
    "Since a proton will float at any distance from the object, as its gravitational attraction to the object is balanced by the radiation pressure on nearby electrons, we can consider an astronaut as a particle with mass $m$ and cross section $2A$, doubled because her suit is white, thus every photon reflection transfers twice the momentum.  Solving Eq. A for $m_p$,\n",
    "\n",
    "\\begin{align}\n",
    "m_p &= \\frac{L_\\textrm{E}\\sigma_\\textrm{T}}{4\\pi cGM} \\\\\n",
    "&= \\frac{\\sigma_\\textrm{T} \\cdot 1.3 \\times 10^{38} \\textrm{ erg/s}}{4\\pi cGM_\\odot}\n",
    "\\tag{B}\n",
    "\\end{align}\n",
    "\n",
    "Comparing $m$ to $m_p$ and $2A$ to $\\sigma_\\textrm{T}$,\n",
    "\n",
    "\\begin{align}\n",
    "m &= \\frac{A \\cdot 1.3 \\times 10^{38} \\textrm{ erg/s}}{2\\pi cGM_\\odot} \\\\\n",
    "\\tag{C}\n",
    "\\end{align}\n",
    "\n",
    "Assuming the cross-sectional area of an astronaut's white space suit is $A=1.5\\textrm{ m}^2$, we can evaluate $m$ as follows:"
   ]
  },
  {
   "cell_type": "code",
   "execution_count": 4,
   "metadata": {},
   "outputs": [
    {
     "name": "stdout",
     "output_type": "stream",
     "text": [
      "𝑚 ≈ 77 kg\n"
     ]
    }
   ],
   "source": [
    "import numpy as np\n",
    "\n",
    "sqm = 1e4    # m^2 in cm^2\n",
    "A = 1.5*sqm  # in cm^2\n",
    "L_E = 1.3e38 # in (erg/s)*(Msun/M)\n",
    "c = 3e10     # cm/s\n",
    "G = 6.7e-8   # erg*cm/g^2\n",
    "Msun = 2e33  # g\n",
    "m = A*L_E/2/np.pi/c/G/Msun\n",
    "\n",
    "print('𝑚 ≈ {:.0f} kg'.format(m/1000))"
   ]
  },
  {
   "cell_type": "markdown",
   "metadata": {},
   "source": [
    "Thus, if the astronaut is placed at rest an arbitrary distance from the compact object, and radiation pressure is to support her from free falling onto the object, her maximum allowed mass $m$ is\n",
    "\n",
    "\\begin{equation}\n",
    "\\boxed{m \\approx 77 \\textrm{ kg}}.\n",
    "\\end{equation}"
   ]
  }
 ],
 "metadata": {
  "kernelspec": {
   "display_name": "REBOUNDx (3.1.0)",
   "language": "python",
   "name": "rebx-3.1.0"
  },
  "language_info": {
   "codemirror_mode": {
    "name": "ipython",
    "version": 3
   },
   "file_extension": ".py",
   "mimetype": "text/x-python",
   "name": "python",
   "nbconvert_exporter": "python",
   "pygments_lexer": "ipython3",
   "version": "3.8.3"
  },
  "widgets": {
   "application/vnd.jupyter.widget-state+json": {
    "state": {},
    "version_major": 2,
    "version_minor": 0
   }
  }
 },
 "nbformat": 4,
 "nbformat_minor": 4
}
