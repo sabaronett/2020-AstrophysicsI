{
 "cells": [
  {
   "cell_type": "markdown",
   "metadata": {},
   "source": [
    "# Homework #7\n",
    "|Author| Stanley A. Baronett|\n",
    "|--|-------------------------------|\n",
    "|Created | 10/26/2020|\n",
    "|Updated | 11/1/2020|\n",
    "\n",
    "All references to chapter problems, numbered equations, and page numbers are from _Astrophysics in a Nutshell: Second Edition_ by Dan Maoz."
   ]
  },
  {
   "cell_type": "markdown",
   "metadata": {},
   "source": [
    "## Chapter 5, Problem 5"
   ]
  },
  {
   "cell_type": "markdown",
   "metadata": {},
   "source": [
    "The __kinetic energy__ per unit mass of the __inflowing upstream gas in the shock frame__ is \n",
    "\n",
    "\\begin{align}\n",
    "E_{k,0} = \\frac{v_0^2}{2}.\n",
    "\\tag{A}\n",
    "\\end{align}\n",
    "\n",
    "### a.\n",
    "\n",
    "From Eq. 5.58, the __thermal energy__ per unit mass, $\\epsilon$, of the __shocked gas__ is\n",
    "\n",
    "\\begin{align}\n",
    "\\epsilon = \\frac{1}{\\gamma - 1}\\frac{P_1}{\\rho_1}.\n",
    "\\tag{B}\n",
    "\\end{align}\n",
    "\n",
    "The ratio between (B) and (A) is\n",
    "\n",
    "\\begin{align}\n",
    "\\frac{\\epsilon}{E_{k,0}} = \\frac{1}{\\gamma - 1}\\frac{P_1}{\\rho_1}\\frac{2}{v_0^2}.\n",
    "\\tag{C}\n",
    "\\end{align}\n",
    "\n",
    "From Eq. 5.54,\n",
    "\n",
    "\\begin{align}\n",
    "\\rho_1 v_1 &= \\rho_0 v_0\\\\\n",
    "v_1 &= \\frac{\\rho_0 v_0}{\\rho_1}.\n",
    "\\tag{D}\n",
    "\\end{align}\n",
    "\n",
    "Substituting (D) into Eq. 5.55, $P_1 + \\rho_1 v_1^2 = P_0 + \\rho_0 v_0^2$, yields,\n",
    "\n",
    "\\begin{align}\n",
    "P_1 + \\rho_1 \\frac{\\rho_0^2 v_0^2}{\\rho_1^2} &= P_0 + \\rho_0 v_0^2 \\\\\n",
    "v_0^2 &= \\frac{P_0 - P_1}{\\rho_0(\\rho_0/\\rho_1 - 1)}.\n",
    "\\tag{E}\n",
    "\\end{align}\n",
    "\n",
    "Plugging (E) into (C),\n",
    "\n",
    "\\begin{align}\n",
    "\\frac{\\epsilon}{E_{k,0}} &= \\frac{2}{\\gamma - 1}\\frac{P_1}{\\rho_1}\\frac{\\rho_0(\\rho_0/\\rho_1 - 1)}{P_0 - P_1} \\\\\n",
    "&= \\frac{2}{\\gamma - 1}\\frac{P_1}{P_0 - P_1}\\left( \\frac{\\rho_0^2}{\\rho_1^2} - \\frac{\\rho_0}{\\rho_1}\\right).\n",
    "\\tag{F}\n",
    "\\end{align}\n",
    "\n",
    "But for strong shocks, where $P_1 \\gg P_0$,\n",
    "\n",
    "\\begin{align}\n",
    "\\lim_{P_1 \\gg P_0} \\frac{P_1}{P_0 - P_1} = \\frac{P_1}{-P_1} = -1,\n",
    "\\end{align}\n",
    "\n",
    "thus, (F) becomes\n",
    "\n",
    "\\begin{align}\n",
    "\\frac{\\epsilon}{E_{k,0}} &= \\frac{-2}{\\gamma - 1}\\left( \\frac{\\rho_0^2}{\\rho_1^2} - \\frac{\\rho_0}{\\rho_1}\\right).\n",
    "\\tag{G}\n",
    "\\end{align}\n",
    "\n",
    "\n",
    "Similarly, for strong shocks, from Eq. 5.61,\n",
    "\n",
    "\\begin{align}\n",
    "\\frac{\\rho_1}{\\rho_0} = \\frac{\\gamma + 1}{\\gamma - 1}.\n",
    "\\tag{H}\n",
    "\\end{align}\n",
    "\n",
    "Plugging (H) into (G) yields\n",
    "\n",
    "\\begin{align}\n",
    "\\frac{\\epsilon}{E_{k,0}} &= \\frac{-2}{\\gamma - 1}\\left[ \\frac{(\\gamma - 1)^2}{(\\gamma + 1)^2} - \\frac{\\gamma - 1}{\\gamma + 1}\\right] \\\\\n",
    "&= \\frac{-2}{\\gamma - 1}\\left[ \\frac{\\gamma^2 - 2\\gamma + 1 - \\gamma^2 + 1}{(\\gamma + 1)^2}\\right] \\\\\n",
    "&= \\frac{4(\\gamma - 1)}{(\\gamma - 1)(\\gamma + 1)^2} \\\\\n",
    "&= \\boxed{ \\frac{4}{(\\gamma + 1)^2} }.\n",
    "\\tag{I}\n",
    "\\end{align}\n",
    "\n",
    "For an __adiabatic index__ $\\gamma = 5/3$ (a monatomic gas),\n",
    "\n",
    "\\begin{align}\n",
    "\\frac{\\epsilon}{E_{k,0}} &= \\frac{4}{(8/3)^2} \\\\\n",
    "&=  \\frac{9(4)}{64} \\\\\n",
    "&=  \\boxed{ \\frac{9}{16} }.\n",
    "\\end{align}"
   ]
  },
  {
   "cell_type": "markdown",
   "metadata": {},
   "source": [
    "### b.\n",
    "\n",
    "The __kinetic energy__ per unit mass of the __shocked gas, in the shock frame__ is\n",
    "\n",
    "\\begin{align}\n",
    "E_{k,1} = \\frac{v_1^2}{2},\n",
    "\\tag{J}\n",
    "\\end{align}\n",
    "\n",
    "and,\n",
    "\n",
    "\\begin{align}\n",
    "\\frac{E_{k,1}}{E_{k,0}} = \\frac{v_1^2/2}{v_0^2/2}.\n",
    "\\tag{K}\n",
    "\\end{align}\n",
    "\n",
    "But, from Eq. 5.60,\n",
    "\n",
    "\\begin{align}\n",
    "\\frac{\\rho_1}{\\rho_0} = \\frac{v_0}{v_1}.\n",
    "\\tag{L}\n",
    "\\end{align}\n",
    "\n",
    "Combining (G) and (L),\n",
    "\n",
    "\\begin{align}\n",
    "\\frac{v_0}{v_1} = \\frac{\\gamma + 1}{\\gamma - 1}.\n",
    "\\tag{M}\n",
    "\\end{align}\n",
    "\n",
    "Plugging (M) into (K),\n",
    "\n",
    "\\begin{equation}\n",
    "\\boxed{ \\frac{E_{k,1}}{E_{k,0}} = \\frac{(\\gamma - 1)^2}{(\\gamma + 1)^2} = \\frac{1}{16} }.\n",
    "\\tag{N}\n",
    "\\end{equation}"
   ]
  },
  {
   "cell_type": "markdown",
   "metadata": {},
   "source": [
    "### c.\n",
    "\n",
    "The __kinetic energy__ per unit mass of the __shocked gas, in the observer frame__ is\n",
    "\n",
    "\\begin{align}\n",
    "E_{k,1}^\\prime = \\frac{v^2}{2} = \\frac{(v_0 - v_1)^2}{2},\n",
    "\\tag{O}\n",
    "\\end{align}\n",
    "\n",
    "and,\n",
    "\n",
    "\\begin{align}\n",
    "\\frac{E_{k,1}^\\prime}{E_{k,0}} &= \\frac{(v_0 - v_1)^2/2}{v_0^2/2} \\\\\n",
    "&= \\frac{v_0^2}{v_0^2} - 2\\frac{v_1}{v_0} + \\frac{v_1^2}{v_0^2}.\n",
    "\\tag{P}\n",
    "\\end{align}\n",
    "\n",
    "Using (M),\n",
    "\n",
    "\\begin{align}\n",
    "\\frac{E_{k,1}^\\prime}{E_{k,0}} &= 1 - 2\\frac{\\gamma - 1}{\\gamma + 1} + \\frac{(\\gamma - 1)^2}{(\\gamma + 1)^2} \\\\\n",
    "&= \\frac{(\\gamma + 1)^2 - 2(\\gamma - 1)(\\gamma + 1) + (\\gamma - 1)^2}{(\\gamma + 1)^2} \\\\\n",
    "&= \\frac{\\gamma^2 + 2\\gamma + 1 - 2\\gamma^2 + 2 + \\gamma^2 - 2\\gamma + 1}{(\\gamma + 1)^2} \\\\\n",
    "&= \\boxed{ \\frac{4}{(\\gamma + 1)^2} = \\frac{9}{16} },\n",
    "\\tag{Q}\n",
    "\\end{align}\n",
    "\n",
    "the same as $\\epsilon$, i.e., in the observer's frame, one-half of the shocked gas's energy is thermal and one-half is kinetic."
   ]
  },
  {
   "cell_type": "markdown",
   "metadata": {},
   "source": [
    "## Chapter 5, Problem 6"
   ]
  },
  {
   "cell_type": "markdown",
   "metadata": {},
   "source": [
    "### a.\n",
    "\n",
    "If the width of the outer X-ray emitting rim corresponds to the distance traveled by the emitting electrons over a synchrotron cooling time, then\n",
    "\n",
    "\\begin{align}\n",
    "d &= vt_\\textrm{cool} \\\\\n",
    "t_\\textrm{cool} &= \\frac{d}{v_0 - v_1},\n",
    "\\tag{A}\n",
    "\\end{align}\n",
    "\n",
    "where we've used the fact that $v = v_0 - v_1$ in the observer frame. But, from Eq. 5.98,\n",
    "\n",
    "\\begin{align}\n",
    "t_\\textrm{cool} = 10 \\textrm{ yr} \\frac{1}{\\gamma B^2}.\n",
    "\\tag{B}\n",
    "\\end{align}\n",
    "\n",
    "Setting (A) and (B) equal and solving for $\\gamma$,\n",
    "\n",
    "\\begin{align}\n",
    "\\frac{d}{v_0 - v_1} &= 10 \\textrm{ yr} \\frac{1}{\\gamma B^2} \\\\\n",
    "\\gamma &= 10 \\textrm{ yr} \\frac{v_0 - v_1}{B^2 d}.\n",
    "\\tag{C}\n",
    "\\end{align}\n",
    "\n",
    "Now, from Eq. 5.93,\n",
    "\n",
    "\\begin{align}\n",
    "\\nu_\\textrm{sync} = 4.2 \\textrm{ MHz } \\gamma^2B.\n",
    "\\tag{D}\n",
    "\\end{align}\n",
    "\n",
    "Substituting (C) into (D) and solving for $B$,\n",
    "\n",
    "\\begin{align}\n",
    "\\nu_\\textrm{sync} = 4.2 \\textrm{ MHz } \\left( 10 \\textrm{ yr} \\frac{v_0 - v_1}{B^2 d} \\right)^2B \\\\\n",
    "B = \\left[ \\frac{4.2 \\textrm{ MHz }}{\\nu_\\textrm{sync}} \\left( 10 \\textrm{ yr} \\frac{v_0 - v_1}{d} \\right)^2 \\right]^{(1/3)}.\n",
    "\\tag{E}\n",
    "\\end{align}\n",
    "\n",
    "Evaluating $B$ as follows, with $v_0 = 6000 \\textrm{ km/s}$, $v_1 = v_0/4$, $h\\nu_\\textrm{sync} = 4 \\textrm{ keV}$, and $d = 0.1 \\textrm{ pc}$:"
   ]
  },
  {
   "cell_type": "code",
   "execution_count": 5,
   "metadata": {},
   "outputs": [
    {
     "name": "stdout",
     "output_type": "stream",
     "text": [
      "𝐵 ≈ 97 μG\n"
     ]
    }
   ],
   "source": [
    "v0 = 6e8           # cm/s\n",
    "v1 = v0/4          # cm/s\n",
    "v = v0 - v1        # cm/s\n",
    "h = 6.6e-27        # erg*s\n",
    "eV = 1.6e-12       # erg\n",
    "nu_sync = 4e3*eV/h # Hz\n",
    "pc = 3.1e18        # cm\n",
    "d = 0.1*pc         # cm\n",
    "yr = 3.15e7        # s\n",
    "\n",
    "B = (4.2e6*(10*yr*v/d)**2/nu_sync)**(1/3)\n",
    "\n",
    "print('𝐵 ≈ {:.0f} μG'.format(B*1e6))"
   ]
  },
  {
   "cell_type": "markdown",
   "metadata": {},
   "source": [
    "\\begin{equation}\n",
    "\\boxed{ B = 97 \\textrm{ μG} }\n",
    "\\tag{F}\n",
    "\\end{equation}\n",
    "\n",
    "Solving (D) for $\\gamma$,\n",
    "\n",
    "\\begin{equation}\n",
    "\\gamma = \\left( \\frac{\\nu_\\textrm{sync}}{4.2\\textrm{ MHz}B} \\right)^{1/2}.\n",
    "\\tag{G}\n",
    "\\end{equation}\n",
    "\n",
    "The energies of these electrons is\n",
    "\n",
    "\\begin{equation}\n",
    "E_e = \\gamma m_e c^2.\n",
    "\\tag{H}\n",
    "\\end{equation}\n",
    "\n",
    "Evaluating (G) and (H) with $B = 97 \\textrm{ μG}$,"
   ]
  },
  {
   "cell_type": "code",
   "execution_count": 6,
   "metadata": {},
   "outputs": [
    {
     "name": "stdout",
     "output_type": "stream",
     "text": [
      "𝛾 ≈ 5e+07\n",
      "𝐸ₑ ≈ 3e+13 eV\n"
     ]
    }
   ],
   "source": [
    "m = m_e = 9.1e-28   # g\n",
    "gamma = (nu_sync/4.2e6/B)**(1/2)\n",
    "print('𝛾 ≈ {:.0e}'.format(gamma))\n",
    "\n",
    "c = 3e10 # cm/s\n",
    "Ee = gamma*m_e*c**2 # erg\n",
    "print('𝐸ₑ ≈ {:.0e} eV'.format(Ee/eV))"
   ]
  },
  {
   "cell_type": "markdown",
   "metadata": {},
   "source": [
    "\\begin{equation}\n",
    "\\boxed{ \\gamma = 5 \\times 10^7 \\approx 10^8}\n",
    "\\end{equation}\n",
    "\n",
    "\\begin{equation}\n",
    "\\boxed{ E_e = 3 \\times 10^{13} \\textrm{ eV}}\n",
    "\\end{equation}\n",
    "\n",
    "This magnetic field is an order of magnitude higher than typical ISM fields, suggesting supernova shocks can produce strong magnetic fields."
   ]
  },
  {
   "cell_type": "markdown",
   "metadata": {},
   "source": [
    "### b.\n",
    "\n",
    "Solving (E) for the rim width $d$,\n",
    "\n",
    "\\begin{equation}\n",
    "d = v 10 \\textrm{ yr} \\left( \\frac{4.2 \\textrm{ MHz }}{B^3 \\nu_\\textrm{sync}} \\right)\n",
    "\\tag{I}\n",
    "\\end{equation}"
   ]
  },
  {
   "cell_type": "code",
   "execution_count": 19,
   "metadata": {},
   "outputs": [
    {
     "name": "stdout",
     "output_type": "stream",
     "text": [
      "𝑑 ≈ 0.2 pc\n"
     ]
    }
   ],
   "source": [
    "nu_sync = 1e3*eV/h # Hz\n",
    "\n",
    "d = 10*yr*v*(4.2e6/B**3/nu_sync)**(1/2)\n",
    "\n",
    "print('𝑑 ≈ {:.1f} pc'.format(d/pc))"
   ]
  },
  {
   "cell_type": "markdown",
   "metadata": {},
   "source": [
    "\\begin{equation}\n",
    "\\boxed{ d = 0.2 \\textrm{pc}}\n",
    "\\end{equation}\n",
    "\n",
    "An alternative explanation to the rim width's dependence on synchrotron photon energies is x-ray emission from supernova ejecta superheated by the traversal of the reverse shock, i.e., material emitting bremsstrahlung, from thermal electrons, and line emission from the ions in the hot ejecta."
   ]
  }
 ],
 "metadata": {
  "kernelspec": {
   "display_name": "REBOUNDx (3.1.0)",
   "language": "python",
   "name": "rebx-3.1.0"
  },
  "language_info": {
   "codemirror_mode": {
    "name": "ipython",
    "version": 3
   },
   "file_extension": ".py",
   "mimetype": "text/x-python",
   "name": "python",
   "nbconvert_exporter": "python",
   "pygments_lexer": "ipython3",
   "version": "3.8.3"
  },
  "widgets": {
   "application/vnd.jupyter.widget-state+json": {
    "state": {},
    "version_major": 2,
    "version_minor": 0
   }
  }
 },
 "nbformat": 4,
 "nbformat_minor": 4
}
