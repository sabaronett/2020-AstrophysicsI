{
 "cells": [
  {
   "cell_type": "markdown",
   "metadata": {},
   "source": [
    "# Constants and Units"
   ]
  },
  {
   "cell_type": "code",
   "execution_count": 37,
   "metadata": {},
   "outputs": [],
   "source": [
    "import math\n",
    "\n",
    "T        = 2.7      # K (CMB)\n",
    "\n",
    "G        = 6.7e-8   # erg*cm/g^2\n",
    "c        = 3e10     # cm/s\n",
    "h        = 6.6e-27  # erg*s\n",
    "hbar     = 1.05e-27 # erg*s\n",
    "k_erg    = 1.4e-16  # erg/K\n",
    "k_eV     = 8.6e-5   # eV/K\n",
    "sigma    = 5.7e-5   # erg/cm^2/s/K^4\n",
    "a        = 7.6e-15  # erg/cm^3/K^4\n",
    "m_p      = 1.7e-24  # g\n",
    "m_e      = 9.1e-28  # g\n",
    "e        = 4.8e-10  # esu\n",
    "eV       = 1.6e-12  # erg\n",
    "sigma_T  = 6.7e-25  # cm^2\n",
    "l_max    = 2900/T   # Å 10^4 K\n",
    "hnu_max  = 2.82*k_erg*T    # eV/10^4 K\n",
    "angstrom = 10e-8    # cm\n",
    "Msun     = 2e33     # g\n",
    "Lsun     = 3.8e33   # erg/s\n",
    "Rsun     = 7e10     # cm\n",
    "au       = 1.5e13   # cm\n",
    "Mjup     = 1.9e30   # g\n",
    "rjup     = 7e9      # cm\n",
    "djup     = 5.2*au   #= 7.8e13 # cm\n",
    "Mearth   = 6e27     # g\n",
    "rearth   = 6.4e8    # cm\n",
    "Mmoon    = 7.4e25   # g\n",
    "rmoon    = 1.7e8    # cm\n",
    "dmoon    = 3.8e10   # cm\n",
    "pc       = 3.1e18   # cm\n",
    "yr       = 3.15e7   # s\n",
    "pi       = math.pi  # rad\n",
    "arcsec   = 1/3600   # deg\n",
    "arcmin   = 1/60     # deg"
   ]
  },
  {
   "cell_type": "code",
   "execution_count": 67,
   "metadata": {},
   "outputs": [
    {
     "name": "stdout",
     "output_type": "stream",
     "text": [
      "1.0e+19\n"
     ]
    }
   ],
   "source": [
    "E = 2e-3\n",
    "P = 6.3e-30\n",
    "\n",
    "ans = E/P/yr\n",
    "\n",
    "print(\"{:.1e}\".format(ans))"
   ]
  },
  {
   "cell_type": "code",
   "execution_count": 66,
   "metadata": {},
   "outputs": [
    {
     "name": "stdout",
     "output_type": "stream",
     "text": [
      "2.0e-03\n"
     ]
    }
   ],
   "source": [
    "gamma = 2.5e3\n",
    "ans = gamma*m_e*c**2\n",
    "\n",
    "print(\"{:.1e}\".format(ans))"
   ]
  },
  {
   "cell_type": "code",
   "execution_count": 66,
   "metadata": {},
   "outputs": [
    {
     "name": "stdout",
     "output_type": "stream",
     "text": [
      "2.0e-03\n"
     ]
    }
   ],
   "source": [
    "gamma = 2.5e3\n",
    "ans = gamma*m_e*c**2\n",
    "\n",
    "print(\"{:.1e}\".format(ans))"
   ]
  },
  {
   "cell_type": "code",
   "execution_count": 65,
   "metadata": {},
   "outputs": [
    {
     "name": "stdout",
     "output_type": "stream",
     "text": [
      "2.5e+03\n"
     ]
    }
   ],
   "source": [
    "nu_c = 1e12\n",
    "B = 1e-3\n",
    "\n",
    "ans = (m_e*c*nu_c/3/pi/e/B)**(1/2)\n",
    "\n",
    "print(\"{:.1e}\".format(ans))"
   ]
  },
  {
   "cell_type": "code",
   "execution_count": 58,
   "metadata": {},
   "outputs": [
    {
     "name": "stdout",
     "output_type": "stream",
     "text": [
      "6.3e-30\n"
     ]
    }
   ],
   "source": [
    "w = 1e12\n",
    "ans = 2*pi*1.6e-23*w**(-0.6)\n",
    "\n",
    "print(\"{:.1e}\".format(ans))"
   ]
  },
  {
   "cell_type": "code",
   "execution_count": 41,
   "metadata": {},
   "outputs": [
    {
     "name": "stdout",
     "output_type": "stream",
     "text": [
      "-6.0e-01\n"
     ]
    }
   ],
   "source": [
    "p = 2.2\n",
    "ans = (-(p-1)/2)\n",
    "\n",
    "print(\"{:.1e}\".format(ans))"
   ]
  },
  {
   "cell_type": "code",
   "execution_count": 57,
   "metadata": {},
   "outputs": [
    {
     "name": "stdout",
     "output_type": "stream",
     "text": [
      "1.6e-23\n"
     ]
    }
   ],
   "source": [
    "B = 1e-3\n",
    "p = 2.2\n",
    "\n",
    "ans = (3**(1/2)*e**3*B/2/pi/m_e/c**2/(p+1))*math.gamma(p/4 + 19/12)*math.gamma(p/4 - 1/12)*(m_e*c/3/e/B)**(-(p-1)/2)\n",
    "\n",
    "print(\"{:.1e}\".format(ans))"
   ]
  },
  {
   "cell_type": "code",
   "execution_count": 51,
   "metadata": {},
   "outputs": [
    {
     "name": "stdout",
     "output_type": "stream",
     "text": [
      "2.9e-30\n"
     ]
    }
   ],
   "source": [
    "ans = 3.7e-26*(pi/2)**(1/2)/2.6e8**(1/2)\n",
    "\n",
    "print(\"{:.1e}\".format(ans))"
   ]
  },
  {
   "cell_type": "code",
   "execution_count": 48,
   "metadata": {},
   "outputs": [
    {
     "name": "stdout",
     "output_type": "stream",
     "text": [
      "4.6e-26\n"
     ]
    }
   ],
   "source": [
    "ans = 3.7e-26*(pi/2)**(1/2)\n",
    "\n",
    "print(\"{:.1e}\".format(ans))"
   ]
  },
  {
   "cell_type": "code",
   "execution_count": 46,
   "metadata": {},
   "outputs": [
    {
     "name": "stdout",
     "output_type": "stream",
     "text": [
      "1.2e-28\n"
     ]
    }
   ],
   "source": [
    "ans = 2.1*3.7e-26/2.6e8**(1/3)\n",
    "\n",
    "print(\"{:.1e}\".format(ans))"
   ]
  },
  {
   "cell_type": "code",
   "execution_count": 45,
   "metadata": {},
   "outputs": [
    {
     "name": "stdout",
     "output_type": "stream",
     "text": [
      "7.8e-26\n"
     ]
    }
   ],
   "source": [
    "ans = 2.1*3.7e-26\n",
    "\n",
    "print(\"{:.1e}\".format(ans))"
   ]
  },
  {
   "cell_type": "code",
   "execution_count": 44,
   "metadata": {},
   "outputs": [
    {
     "name": "stdout",
     "output_type": "stream",
     "text": [
      "2.1e+00\n"
     ]
    }
   ],
   "source": [
    "ans = 4*pi/3**(1/2)/math.gamma(1/3)/2**(1/3)\n",
    "\n",
    "print(\"{:.1e}\".format(ans))"
   ]
  },
  {
   "cell_type": "code",
   "execution_count": 43,
   "metadata": {},
   "outputs": [
    {
     "name": "stdout",
     "output_type": "stream",
     "text": [
      "3.7e-26\n"
     ]
    }
   ],
   "source": [
    "B = 1e-3\n",
    "\n",
    "ans = 3**(1/2)*e**3*B/2/pi/m_e/c**2\n",
    "\n",
    "print(\"{:.1e}\".format(ans))"
   ]
  },
  {
   "cell_type": "code",
   "execution_count": 25,
   "metadata": {},
   "outputs": [
    {
     "name": "stdout",
     "output_type": "stream",
     "text": [
      "2.6e+08\n"
     ]
    }
   ],
   "source": [
    "gamma = 100\n",
    "B = 1e-3\n",
    "\n",
    "ans = 3*gamma**2*e*B/2/m_e/c\n",
    "\n",
    "print(\"{:.1e}\".format(ans))"
   ]
  },
  {
   "cell_type": "code",
   "execution_count": 11,
   "metadata": {},
   "outputs": [
    {
     "name": "stdout",
     "output_type": "stream",
     "text": [
      "BH, Schwarzschild: 1.2e+07\n"
     ]
    }
   ],
   "source": [
    "M = 10*Msun\n",
    "Ledd = 4*pi*c*G*M*m_p/sigma_T\n",
    "epsilon = 0.1\n",
    "Mdot = Ledd/epsilon/c**2\n",
    "r_s = 2*G*M/c**2\n",
    "r = 3*r_s\n",
    "\n",
    "ans = (G*M*Mdot/8/pi/sigma/r**3)**(1/4)\n",
    "\n",
    "print(\"BH, Schwarzschild: {:.1e}\".format(ans))"
   ]
  },
  {
   "cell_type": "code",
   "execution_count": 12,
   "metadata": {},
   "outputs": [
    {
     "name": "stdout",
     "output_type": "stream",
     "text": [
      "BH, Kerr: 2.7e+07\n"
     ]
    }
   ],
   "source": [
    "M = 10*Msun\n",
    "Ledd = 4*pi*c*G*M*m_p/sigma_T\n",
    "epsilon = 0.1\n",
    "Mdot = Ledd/epsilon/c**2\n",
    "r_s = 2*G*M/c**2\n",
    "r = r_s\n",
    "\n",
    "ans = (G*M*Mdot/8/pi/sigma/r**3)**(1/4)\n",
    "\n",
    "print(\"BH, Kerr: {:.1e}\".format(ans))"
   ]
  },
  {
   "cell_type": "code",
   "execution_count": 13,
   "metadata": {},
   "outputs": [
    {
     "name": "stdout",
     "output_type": "stream",
     "text": [
      "SMBH, Schwarzschild: 2.1e+05\n"
     ]
    }
   ],
   "source": [
    "M = 1e8*Msun\n",
    "Ledd = 4*pi*c*G*M*m_p/sigma_T\n",
    "epsilon = 0.1\n",
    "Mdot = Ledd/epsilon/c**2\n",
    "r_s = 2*G*M/c**2\n",
    "r = 3*r_s\n",
    "\n",
    "ans = (G*M*Mdot/8/pi/sigma/r**3)**(1/4)\n",
    "\n",
    "print(\"SMBH, Schwarzschild: {:.1e}\".format(ans))"
   ]
  },
  {
   "cell_type": "code",
   "execution_count": 14,
   "metadata": {},
   "outputs": [
    {
     "name": "stdout",
     "output_type": "stream",
     "text": [
      "SMBH, Kerr: 4.7e+05\n"
     ]
    }
   ],
   "source": [
    "M = 1e8*Msun\n",
    "Ledd = 4*pi*c*G*M*m_p/sigma_T\n",
    "epsilon = 0.1\n",
    "Mdot = Ledd/epsilon/c**2\n",
    "r_s = 2*G*M/c**2\n",
    "r = r_s\n",
    "\n",
    "ans = (G*M*Mdot/8/pi/sigma/r**3)**(1/4)\n",
    "\n",
    "print(\"SMBH, Kerr: {:.1e}\".format(ans))"
   ]
  }
 ],
 "metadata": {
  "kernelspec": {
   "display_name": "REBOUNDx (3.1.0)",
   "language": "python",
   "name": "rebx-3.1.0"
  },
  "language_info": {
   "codemirror_mode": {
    "name": "ipython",
    "version": 3
   },
   "file_extension": ".py",
   "mimetype": "text/x-python",
   "name": "python",
   "nbconvert_exporter": "python",
   "pygments_lexer": "ipython3",
   "version": "3.8.3"
  },
  "widgets": {
   "application/vnd.jupyter.widget-state+json": {
    "state": {},
    "version_major": 2,
    "version_minor": 0
   }
  }
 },
 "nbformat": 4,
 "nbformat_minor": 4
}
