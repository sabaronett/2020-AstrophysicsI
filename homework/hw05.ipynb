{
 "cells": [
  {
   "cell_type": "markdown",
   "metadata": {},
   "source": [
    "# Homework #5\n",
    "|Author| Stanley A. Baronett|\n",
    "|--|-------------------------------|\n",
    "|Created | 10/6/2020|\n",
    "|Updated | 10/7/2020|\n",
    "\n",
    "All references to chapter problems, numbered equations, and page numbers are from _Astrophysics in a Nutshell: Second Edition_ by Dan Maoz."
   ]
  },
  {
   "cell_type": "markdown",
   "metadata": {},
   "source": [
    "## Chapter 4, Problem 4"
   ]
  },
  {
   "cell_type": "markdown",
   "metadata": {},
   "source": [
    "### a.\n",
    "\n",
    "From the virial theorem, Eq. 4.43,\n",
    "\n",
    "\\begin{align}\n",
    "\\bar P V = -\\tfrac{1}{3}E_\\textrm{gr},\n",
    "\\end{align}\n",
    "\n",
    "where $\\bar P$ is the mean pressure,\n",
    "\n",
    "\\begin{align}\n",
    "V = \\frac{4\\pi}{3}r^3,\n",
    "\\end{align}\n",
    "\n",
    "is the volume (Eq. 4.46), and\n",
    "\n",
    "\\begin{align}\n",
    "E_\\textrm{gr} \\sim -\\frac{GM^2}{r},\n",
    "\\end{align}\n",
    "is the characteristic gravitational self-energy.  For a white dwarf of mass $M$ and radius $R$, we find\n",
    "\n",
    "\\begin{equation}\n",
    "\\boxed{ \\bar P \\sim \\frac{GM^2}{R^4} }.\n",
    "\\end{equation}"
   ]
  },
  {
   "cell_type": "markdown",
   "metadata": {},
   "source": [
    "### b.\n",
    "\n",
    "The speed of sound is $v_\\textrm{s} = \\sqrt{dP/d\\rho} \\sim \\sqrt{P/\\rho}$.  Assuming uniform density, $\\rho \\sim M/R^3$, an order-of-magnitude estimate of the sound speed is\n",
    "\n",
    "\\begin{align}\n",
    "v_\\textrm{s} \\sim \\sqrt{\\frac{GM}{R}}.\n",
    "\\end{align}\n",
    "\n",
    "In an accreting white dwarf with a carbon core that has reached nuclear ignition temperature, a nuclear burning \"flame\" encompasses the star at the sound velocity or faster.  Assuming $R = 10^4 \\textrm{ km}$ and $M = 1.4M_\\odot$, we can estimate the time it takes the flame to traverse the radius of the white dwarf as follows:"
   ]
  },
  {
   "cell_type": "code",
   "execution_count": 1,
   "metadata": {},
   "outputs": [
    {
     "name": "stdout",
     "output_type": "stream",
     "text": [
      "𝑣ₛ ~ 4.33e+08 cm/s ~ 4331 km/s\n",
      "𝜏ₛ ~ 2.31 s\n"
     ]
    }
   ],
   "source": [
    "km = 1e5     # cm\n",
    "R = 1e4*km   # cm\n",
    "Msun = 2e33  # g\n",
    "M = 1.4*Msun # g\n",
    "G = 6.7e-8   # erg*cm/g^2\n",
    "v_s = (G*M/R)**(1/2)\n",
    "tau = R/v_s\n",
    "\n",
    "print('𝑣ₛ ~ {:.2e} cm/s ~ {:.0f} km/s'.format(v_s, v_s/1e5))\n",
    "print('𝜏ₛ ~ {:.2f} s'.format(tau))"
   ]
  },
  {
   "cell_type": "markdown",
   "metadata": {},
   "source": [
    "\\begin{equation}\n",
    "\\boxed{v_\\textrm{s} \\approx 4331 \\textrm{ km/s}}.\n",
    "\\end{equation}\n",
    "\n",
    "\\begin{equation}\n",
    "\\boxed{\\tau_\\textrm{sc} \\approx 2.31 \\textrm{ s}}.\n",
    "\\end{equation}\n",
    "\n",
    "Note that this __sound-crossing timescale__ is $\\sim(G\\rho)^{-1/2}$, which is also the free-fall timescale (Eq. 3.15)."
   ]
  },
  {
   "cell_type": "markdown",
   "metadata": {},
   "source": [
    "### c.\n",
    "\n",
    "If the entire mass of the white dwarf is synthesized from carbon to nickel, with a mass-to-energy conversion efficiency of 0.1%, then the total energy output is\n",
    "\n",
    "\\begin{equation}\n",
    "E_\\textrm{tot} = 0.1\\% Mc^2\n",
    "\\end{equation}\n",
    "\n",
    "We can calculate the energy of the explosion as follows:"
   ]
  },
  {
   "cell_type": "code",
   "execution_count": 2,
   "metadata": {},
   "outputs": [
    {
     "name": "stdout",
     "output_type": "stream",
     "text": [
      "𝐸_tot = 2.52e+51 erg\n"
     ]
    }
   ],
   "source": [
    "c = 3e10 # cm/s\n",
    "E_tot = 0.001*M*c**2\n",
    "\n",
    "print('𝐸_tot = {:.2e} erg'.format(E_tot))"
   ]
  },
  {
   "cell_type": "markdown",
   "metadata": {},
   "source": [
    "\\begin{equation}\n",
    "\\boxed{E_\\textrm{tot} \\approx 2.52 \\times 10^{51} \\textrm{ erg}}.\n",
    "\\end{equation}\n",
    "\n",
    "From Eq. 4.82, we can calculate the gravitational binding energy of the white dwarf as follows:"
   ]
  },
  {
   "cell_type": "code",
   "execution_count": 3,
   "metadata": {},
   "outputs": [
    {
     "name": "stdout",
     "output_type": "stream",
     "text": [
      "𝐸_gr = 5.00e+50 erg\n",
      "𝐸_tot/𝐸_gr = 5\n"
     ]
    }
   ],
   "source": [
    "E_gr = 5e53*(M/1.4/Msun)**2/(R/10e5)\n",
    "\n",
    "print('𝐸_gr = {:.2e} erg'.format(E_gr))\n",
    "print('𝐸_tot/𝐸_gr = {:.0f}'.format(E_tot/E_gr))"
   ]
  },
  {
   "cell_type": "markdown",
   "metadata": {},
   "source": [
    "\\begin{equation}\n",
    "E_\\textrm{gr} \\approx 5 \\times 10^{50} \\textrm{ erg}.\n",
    "\\end{equation}\n",
    "\n",
    "\\begin{equation}\n",
    "\\boxed{ \\frac{E_\\textrm{tot}}{E_\\textrm{gr}} \\approx 5 }.\n",
    "\\end{equation}\n",
    "\n",
    "Comparing the two, we see that __the explosion energy is about 5 times the gravitational binding energy__, and therefore the white dwarf is disrupted completely and leaves no remnant."
   ]
  },
  {
   "cell_type": "markdown",
   "metadata": {},
   "source": [
    "### d.\n",
    "\n",
    "The optical luminosity of a type-Ia supernova are completely driven by gamma rays from the radioactive decays of $^{56}\\textrm{Ni} \\rightarrow \\,^{56}\\textrm{Co} + \\gamma \\rightarrow \\,^{56}\\textrm{Fe} + \\gamma$.  The energy radiated per decay chain is\n",
    "\n",
    "\\begin{equation}\n",
    "E_\\gamma = [m(^{56}\\textrm{Ni}) - m(^{56}\\textrm{Fe})]c^2.\n",
    "\\end{equation}\n",
    "\n",
    "If the atomic weights of $^{56}\\textrm{Ni}$ and $^{56}\\textrm{Fe}$ respectively are $55.942135$ and $55.934941$, then we we can calculate the total energy radiated in the optical range during the event as follows:"
   ]
  },
  {
   "cell_type": "code",
   "execution_count": 4,
   "metadata": {},
   "outputs": [
    {
     "name": "stdout",
     "output_type": "stream",
     "text": [
      "𝐸_tot-rad = 3.24e+50 erg\n"
     ]
    }
   ],
   "source": [
    "m56NiDa = 55.942135  # Da\n",
    "m56FeDa = 55.934941  # Da\n",
    "DaeV    = 931.5e6    # dalton in eV/c^2\n",
    "eV      = 1.602e-12  # electron volt in erg\n",
    "\n",
    "E_gamma = (m56NiDa - m56FeDa)*DaeV*eV # in ergs\n",
    "\n",
    "Dag     = 1.66e-24    # dalton in g\n",
    "m56Nig  = m56NiDa*Dag # mass of 56Ni in g\n",
    "N       = M/m56Nig    # total number of nickel atoms\n",
    "\n",
    "E_tot_rad = N*E_gamma\n",
    "\n",
    "print('𝐸_tot-rad = {:.2e} erg'.format(E_tot_rad))"
   ]
  },
  {
   "cell_type": "markdown",
   "metadata": {},
   "source": [
    "\\begin{equation}\n",
    "\\boxed{E_{\\textrm{tot}-\\gamma} \\approx 3.24 \\times 10^{50} \\textrm{ erg}}.\n",
    "\\end{equation}\n",
    "\n",
    "Given the characteristic times for the two decay processes are 8.8 days and 111 days, we can calculate the typical luminosity as follows:"
   ]
  },
  {
   "cell_type": "code",
   "execution_count": 5,
   "metadata": {},
   "outputs": [
    {
     "name": "stdout",
     "output_type": "stream",
     "text": [
      "𝐿 ~ 8.23e+09 𝐿sun\n"
     ]
    }
   ],
   "source": [
    "day  = 24*3600         # s\n",
    "ct   = (8.8 + 111)*day # s\n",
    "L    = E_tot_rad/ct    # erg/s\n",
    "Lsun = 3.8e33          # erg/s\n",
    "\n",
    "print('𝐿 ~ {:.2e} 𝐿sun'.format(L/Lsun))"
   ]
  },
  {
   "cell_type": "markdown",
   "metadata": {},
   "source": [
    "\\begin{equation}\n",
    "\\boxed{\\bar L \\sim 10^{10} L_\\odot}.\n",
    "\\end{equation}"
   ]
  },
  {
   "cell_type": "markdown",
   "metadata": {},
   "source": [
    "### e.\n",
    "\n",
    "The photon diffusion time to the surface at radius $R$ is $R^2/(lc)$, where the mean free path is $l = (\\kappa\\rho)^{-1}$.  If we express $\\rho = M/V$, where $V = \\tfrac{4}{3}\\pi R^3$, and replace $R$ with $vt$, where $v$ is a constant expansion velocity, solving for $t$ we find\n",
    "\n",
    "\\begin{align}\n",
    "t &= \\frac{3v^2 t^2 \\kappa M}{4\\pi c v^3 t^3} \\\\\n",
    "&= \\sqrt{ \\frac{3\\kappa M}{4\\pi c v} }.\n",
    "\\end{align}\n",
    "\n",
    "If the shell has a mass $M = 1.4M_\\odot$, $v = 3 \\times 10^4 \\textrm{ km/s}$, and an atomic-line opacity of $\\kappa \\approx 0.3 \\textrm{ cm}^2\\textrm{/g}$, we can calculate the time it takes for light to diffuse, in a random walk, through the expanding shell of gas as follows:"
   ]
  },
  {
   "cell_type": "code",
   "execution_count": 6,
   "metadata": {},
   "outputs": [
    {
     "name": "stdout",
     "output_type": "stream",
     "text": [
      "𝑡 ~ 17 days\n"
     ]
    }
   ],
   "source": [
    "import numpy as np\n",
    "\n",
    "v     = 3e4*km # cm/s\n",
    "kappa = 0.3    # cm^2/g\n",
    "t     = (3*kappa*M/4/np.pi/c/v)**(1/2) # s\n",
    "\n",
    "print('𝑡 ~ {:.0f} days'.format(t/day))"
   ]
  },
  {
   "cell_type": "markdown",
   "metadata": {},
   "source": [
    "\\begin{equation}\n",
    "\\boxed{t \\sim 17 \\textrm{ days}}.\n",
    "\\end{equation}\n",
    "\n",
    "This corresponds to the _light-curve rise time_ for a type-Ia supernova (i.e, from explosion to reaching its maximum brightness), which is simply the time it takes for the radioactive decay luminosity from the entire shell to become visible."
   ]
  }
 ],
 "metadata": {
  "kernelspec": {
   "display_name": "REBOUNDx (3.1.0)",
   "language": "python",
   "name": "rebx-3.1.0"
  },
  "language_info": {
   "codemirror_mode": {
    "name": "ipython",
    "version": 3
   },
   "file_extension": ".py",
   "mimetype": "text/x-python",
   "name": "python",
   "nbconvert_exporter": "python",
   "pygments_lexer": "ipython3",
   "version": "3.8.3"
  },
  "widgets": {
   "application/vnd.jupyter.widget-state+json": {
    "state": {},
    "version_major": 2,
    "version_minor": 0
   }
  }
 },
 "nbformat": 4,
 "nbformat_minor": 4
}
