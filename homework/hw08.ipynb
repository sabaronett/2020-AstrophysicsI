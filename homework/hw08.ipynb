{
 "cells": [
  {
   "cell_type": "markdown",
   "metadata": {},
   "source": [
    "# Homework #8\n",
    "|Author| Stanley A. Baronett|\n",
    "|--|-------------------------------|\n",
    "|Created | 11/8/2020|\n",
    "|Updated | 11/8/2020|\n",
    "\n",
    "All references to chapter problems, numbered equations, and page numbers are from _Astrophysics in a Nutshell: Second Edition_ by Dan Maoz."
   ]
  },
  {
   "cell_type": "markdown",
   "metadata": {},
   "source": [
    "## Chapter 6, Problem 2, a"
   ]
  },
  {
   "cell_type": "markdown",
   "metadata": {},
   "source": [
    "From Eq. 6.7, solving for $a$,\n",
    "\n",
    "\\begin{align}\n",
    "t_\\textrm{dur} &= \\frac{r_* \\tau}{\\pi a}\\sqrt{1 - b^2} \\\\\n",
    "a &= \\frac{r_* \\tau}{\\pi t_\\textrm{dur}}\\sqrt{1 - b^2},\n",
    "\\tag{A}\n",
    "\\end{align}\n",
    "\n",
    "where $b$ is the impact parameter.  And solving Kepler's law (Eq. 2.35) for a,\n",
    "\n",
    "\\begin{align}\n",
    "\\omega^2 &= \\frac{G(M_1 + M_2)}{a^3} \\\\\n",
    "a &= \\left( \\frac{GM_*\\tau^2}{4\\pi^2} \\right)^{1/3},\n",
    "\\tag{B}\n",
    "\\end{align}\n",
    "\n",
    "where we have assumed $M_* = M_1 \\gg M_2$, and used the fact that $\\omega = 2\\pi/\\tau$. Substituting (B) into (A) and cubing both sides,\n",
    "\n",
    "\\begin{align}\n",
    "\\frac{GM_*\\tau^2}{4\\pi^2} &= \\frac{r_*^3 \\tau^3}{\\pi^3 t_\\textrm{dur}^3}(1 - b^2)^{3/2} \\\\\n",
    "\\frac{M_*}{4r_*^3} &= \\frac{\\tau}{G\\pi t_\\textrm{dur}^3}(1 - b^2)^{3/2}.\n",
    "\\tag{C}\n",
    "\\end{align}\n",
    "\n",
    "Assuming a spherical star, with $V_* = \\tfrac{4}{3}\\pi r_*^3$,\n",
    "\n",
    "\\begin{align}\n",
    "\\frac{\\pi}{3}\\rho_* &= \\frac{\\tau}{G\\pi t_\\textrm{dur}^3}(1 - b^2)^{3/2} \\\\\n",
    "\\rho_* &= \\frac{3\\tau}{G\\pi^2 t_\\textrm{dur}^3}(1 - b^2)^{3/2}.\n",
    "\\tag{D}\n",
    "\\end{align}\n",
    "\n",
    "Assuming an impact parameter $b = 0$, we obtain the upper bound as,\n",
    "\n",
    "\\begin{equation}\n",
    "\\boxed{ \\rho_{*,\\textrm{max}} = \\frac{3\\tau}{G\\pi^2 t_\\textrm{dur}^3} }.\n",
    "\\tag{E}\n",
    "\\end{equation}"
   ]
  },
  {
   "cell_type": "markdown",
   "metadata": {},
   "source": [
    "## Chapter 6, Problem 3"
   ]
  },
  {
   "cell_type": "markdown",
   "metadata": {},
   "source": [
    "From Eq. 6.16, the angular radius of an Einstein ring, or _Einstein angle_,\n",
    "\n",
    "\\begin{align}\n",
    "\\theta_\\textrm{E} = \\left( \\frac{4GM}{c^2} \\frac{D_\\textrm{ls}}{D_\\textrm{ol}D_\\textrm{os}} \\right)^{1/2},\n",
    "\\tag{A}\n",
    "\\end{align}\n",
    "\n",
    "where the various $D$ are the distances between the observer $\\textrm{o}$, lens $\\textrm{l}$, and source $\\textrm{s}$.  If the gravitational lens of mass $M$ is halfway along the line of sight between a source and an observer, at a distance $d$ from each, such that\n",
    "\n",
    "\\begin{align}\n",
    "\\frac{D_\\textrm{ls}}{D_\\textrm{ol}D_\\textrm{os}} &= \\frac{d}{d(2d)}\n",
    "\\end{align}\n",
    "\n",
    "then\n",
    "\n",
    "\\begin{equation}\n",
    "\\boxed{ \\theta_\\textrm{E} = \\left( \\frac{2GM}{c^2d} \\right)^{1/2} }.\n",
    "\\tag{B}\n",
    "\\end{equation}\n",
    "\n",
    "For small angles, the angular radius of the lens is $\\theta \\approx r/d$.  Substituting this for $\\theta_E$ in (B), and solving for $d$, we find\n",
    "\n",
    "\\begin{align}\n",
    "d = \\frac{c^2r^2}{2GM}.\n",
    "\\tag{C}\n",
    "\\end{align}\n",
    "\n",
    "For a one-Solar-mass lens, we can calculate at what distance $d$ the Einstein ring's radius will appear larger than a Solar radius as follows:"
   ]
  },
  {
   "cell_type": "code",
   "execution_count": 6,
   "metadata": {},
   "outputs": [
    {
     "name": "stdout",
     "output_type": "stream",
     "text": [
      "𝑑 = 1.6e+16 cm = 0.0053 pc\n"
     ]
    }
   ],
   "source": [
    "G = 6.7e-8  # erg*cm/g^2\n",
    "c = 3e10    # cm/s\n",
    "Msun = 2e33 # g\n",
    "rsun = 7e10 # cm\n",
    "AU = 1.5e13 # cm\n",
    "pc = 3.1e18 # cm\n",
    "\n",
    "d = c**2*rsun**2/2/G/Msun # in cm\n",
    "\n",
    "print('𝑑 = {:.1e} cm = {:.4f} pc'.format(d, d/pc))"
   ]
  },
  {
   "cell_type": "markdown",
   "metadata": {},
   "source": [
    "\\begin{equation}\n",
    "\\boxed{ d = 1.6 \\times 10^{16} \\textrm{ cm} = 0.0053 \\textrm{ pc}}\n",
    "\\end{equation}"
   ]
  },
  {
   "cell_type": "markdown",
   "metadata": {},
   "source": [
    "## Chapter 7, Problem 4"
   ]
  },
  {
   "cell_type": "markdown",
   "metadata": {},
   "source": [
    "Akin to Eq. 7.19, the mean number density of stars in the galactic disk can be expressed as\n",
    "\n",
    "\\begin{align}\n",
    "n = \\frac{M}{m\\pi r^22h},\n",
    "\\tag{A}\n",
    "\\end{align}\n",
    "\n",
    "where $M$ is the stellar mass in the disk interior to the solar radius, $m$ is the typical stellar mass, $r$ is our distance to the bulge, and $2h$ is the thickness of the disk.  From Eq. 6.16 and our (B) from the previous problem (Chapter 6, Problem 3),\n",
    "\n",
    "\\begin{align}\n",
    "\\theta_\\textrm{E} = \\left( \\frac{4Gm}{c^2r} \\right)^{1/2},\n",
    "\\tag{B}\n",
    "\\end{align}\n",
    "\n",
    "where we've assumed a typical stellar lens of mass $m$ at half the distance to the bulge.  Substituting (B) into Eq. 7.20, we find the _lensing cross section_ as\n",
    "\n",
    "\\begin{align}\n",
    "\\sigma = \\pi \\left(\\theta_\\textrm{E}\\frac{r}{2} \\right)^2 = \\frac{\\pi Gmr}{c^2}.\n",
    "\\tag{C}\n",
    "\\end{align}\n",
    "\n",
    "Substituting (A) and (B) into, the number of disk stars that are passed to within an Einstein radius, or \"targets,\" crossed by any line of sight to the bulge, or $N \\approx n\\sigma l$, where $l = r$, is\n",
    "\n",
    "\\begin{align}\n",
    "N \\approx \\frac{M}{m\\pi r^22h}\\frac{\\pi Gmr}{c^2}r \\approx \\frac{GM}{2c^2h}.\n",
    "\\tag{D}\n",
    "\\end{align}\n",
    "\n",
    "Thus, with $M = 5 \\times 10^{10} M_\\odot$ in (D), the probability that a star int he bulge of our Galaxy will be gravitationally lensed by another star in the galactic disk, close to our line of sight to the bugle star can be estimated as follows:"
   ]
  },
  {
   "cell_type": "code",
   "execution_count": 7,
   "metadata": {},
   "outputs": [
    {
     "name": "stdout",
     "output_type": "stream",
     "text": [
      "𝑁 = 2.4e-06\n"
     ]
    }
   ],
   "source": [
    "M = 5e10*Msun # galactic disk mass interior to Sun\n",
    "h = 0.5e3*pc  # galactic disk scale height\n",
    "\n",
    "N = G*M/2/c**2/h\n",
    "\n",
    "print('𝑁 ≈ {:.1e}'.format(N))"
   ]
  },
  {
   "cell_type": "markdown",
   "metadata": {},
   "source": [
    "\\begin{equation}\n",
    "\\boxed{ N \\approx 2.4 \\times 10^{-6} }\n",
    "\\end{equation}"
   ]
  }
 ],
 "metadata": {
  "kernelspec": {
   "display_name": "REBOUNDx (3.1.0)",
   "language": "python",
   "name": "rebx-3.1.0"
  },
  "language_info": {
   "codemirror_mode": {
    "name": "ipython",
    "version": 3
   },
   "file_extension": ".py",
   "mimetype": "text/x-python",
   "name": "python",
   "nbconvert_exporter": "python",
   "pygments_lexer": "ipython3",
   "version": "3.8.3"
  },
  "widgets": {
   "application/vnd.jupyter.widget-state+json": {
    "state": {},
    "version_major": 2,
    "version_minor": 0
   }
  }
 },
 "nbformat": 4,
 "nbformat_minor": 4
}
