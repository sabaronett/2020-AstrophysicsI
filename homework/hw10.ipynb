{
 "cells": [
  {
   "cell_type": "markdown",
   "metadata": {},
   "source": [
    "# Homework #10\n",
    "|Author| Stanley A. Baronett|\n",
    "|--|-------------------------------|\n",
    "|Created | 11/17/2020|\n",
    "|Updated | 11/17/2020|\n",
    "\n",
    "All references to chapter problems, numbered equations, and page numbers are from _Astrophysics in a Nutshell: Second Edition_ by Dan Maoz."
   ]
  },
  {
   "cell_type": "markdown",
   "metadata": {},
   "source": [
    "## Chapter 9, Problem 3"
   ]
  },
  {
   "cell_type": "markdown",
   "metadata": {},
   "source": [
    "### a.\n",
    "\n",
    "Suppose the same cosmology as in Chapter 9, Problem 2, i.e., $k = 0, \\Omega_\\Lambda = 1$, with a solution to the Friedmann equations as\n",
    "\n",
    "\\begin{align}\n",
    "R(t) = R_0 e^{H_0t}.\n",
    "\\tag{A}\n",
    "\\end{align}\n",
    "\n",
    "Since light moves along _null geodesics_, defined as paths along which $ds = 0$, and therefore in the FLRW metric, light reaching us from a comoving coordinate $r$ will obey\n",
    "\n",
    "\\begin{align}\n",
    "0 = c^2dt^2 - R(t)^2\\frac{dr^2}{1 - kr^2}.\n",
    "\\tag{B}\n",
    "\\end{align}\n",
    "\n",
    "Substituting (A) into (B), separating variables, and taking the square root of both sides yields\n",
    "\n",
    "\\begin{align}\n",
    "R_0^2e^{2H_0t}dr^2 &= c^2dt^2 \\\\\n",
    "R_0 dr &= c e^{-H_0t}dt\n",
    "\\tag{C}\n",
    "\\end{align}\n",
    "\n",
    "To find the comoving radius $r_\\textrm{eh}$ of galaxies that will be on our __event horizon__ at a time $t$ in the future (i.e., galaxies with which we will be unable to communicate), we must integrate both sides from $r = 0$ to $r_\\textrm{eh}$ and from $t$ (future emission time) to $t = \\infty$ (the photons never reach us):\n",
    "\n",
    "\\begin{align}\n",
    "R_0 \\int_0^{r_\\textrm{eh}} dr &= c \\int_t^\\infty e^{-H_0t}dt \\\\\n",
    "R_0 r_\\textrm{eh} &= -\\frac{c}{H_0} \\left[ e^{-H_0t}\\right|_t^\\infty\n",
    "\\end{align}\n",
    "\n",
    "\\begin{equation}\n",
    "\\boxed{ r_\\textrm{eh} = \\frac{c}{H_0 R_0}e^{-H_0t} }.\n",
    "\\tag{D}\n",
    "\\end{equation}\n",
    "\n",
    "Therefore, since our event horizon shrinks exponentially, $r_\\textrm{eh} \\propto \\exp(-t)$, we lose the possibility of communication with more and more of our neighbors."
   ]
  },
  {
   "cell_type": "markdown",
   "metadata": {},
   "source": [
    "### b.\n",
    "\n",
    "Solving (D) for $t$,\n",
    "\n",
    "\\begin{align}\n",
    "t &= -H_0^{-1}\\ln \\left( \\frac{H_0 R_0r_\\textrm{eh}}{c} \\right).\n",
    "\\tag{E}\n",
    "\\end{align}\n",
    "\n",
    "Assuming that $H_0 = 70 \\textrm{ km/s/Mpc}$, we can calculate in how many years the galaxies in the nearby Virgo cluster (distance $r_\\textrm{eh} \\sim 15 \\textrm{ Mpc}/R_0$) will reach the event horizon as follows:"
   ]
  },
  {
   "cell_type": "code",
   "execution_count": 1,
   "metadata": {},
   "outputs": [
    {
     "name": "stdout",
     "output_type": "stream",
     "text": [
      "𝑡 = 79.5 Gyr\n"
     ]
    }
   ],
   "source": [
    "import numpy as np\n",
    "\n",
    "pc = 3.1e18               # cm\n",
    "H0 = 70e5/1e6/pc          # /s\n",
    "r_eh = 15*1e6*pc          # cm/R0\n",
    "c = 3e10                  # cm/s\n",
    "t = -np.log(H0*r_eh/c)/H0 # s\n",
    "yr = 3.15e7               # s\n",
    "\n",
    "print('𝑡 = {:.1f} Gyr'.format(t/yr/1e9))"
   ]
  },
  {
   "cell_type": "markdown",
   "metadata": {},
   "source": [
    "\\begin{equation}\n",
    "\\boxed{ t = 79 \\textrm{ Gyr} }\n",
    "\\end{equation}"
   ]
  }
 ],
 "metadata": {
  "kernelspec": {
   "display_name": "REBOUNDx (3.1.0)",
   "language": "python",
   "name": "rebx-3.1.0"
  },
  "language_info": {
   "codemirror_mode": {
    "name": "ipython",
    "version": 3
   },
   "file_extension": ".py",
   "mimetype": "text/x-python",
   "name": "python",
   "nbconvert_exporter": "python",
   "pygments_lexer": "ipython3",
   "version": "3.8.3"
  },
  "widgets": {
   "application/vnd.jupyter.widget-state+json": {
    "state": {},
    "version_major": 2,
    "version_minor": 0
   }
  }
 },
 "nbformat": 4,
 "nbformat_minor": 4
}
