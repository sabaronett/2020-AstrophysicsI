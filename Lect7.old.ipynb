{
 "cells": [
  {
   "cell_type": "code",
   "execution_count": 27,
   "metadata": {},
   "outputs": [],
   "source": [
    "# read in library and constants\n",
    "import numpy as np, os, sys\n",
    "import matplotlib.pylab as p\n",
    "\n",
    "sigmacont=5.67051e-5\n",
    "acont=7.5657e-15\n",
    "ev=1.602e-12\n",
    "hcont=6.62607004e-27\n",
    "ccont=2.99792458e10\n",
    "kcont=1.38064852e-16\n",
    "rcont=8.314472e7\n",
    "me=9.1093837015e-28\n",
    "Gcont=6.67259e-8\n",
    "Msun=1.989e33\n",
    "Mearth=5.972e27\n",
    "Mjupiter=1.898e30\n",
    "Lsun=3.827e33\n",
    "rsun=6.9599e10\n",
    "rjupiter=7.149e9\n",
    "rearth=6.371e8\n",
    "au=1.49598e13\n",
    "pc=3.085678e18\n",
    "mh=1.67352e-24\n",
    "yr=365.2425*24.*3600\n",
    "pi=3.1415926"
   ]
  },
  {
   "cell_type": "code",
   "execution_count": 28,
   "metadata": {},
   "outputs": [
    {
     "name": "stdout",
     "output_type": "stream",
     "text": [
      "𝑟ₙₛ ≈ 11.2 km\n",
      "𝜌ₙₛ ≈ 4.74e+14 g/cm³\n"
     ]
    }
   ],
   "source": [
    "#Please calculate the neutron star radius and density (assume it is 1.4 solar mass)\n",
    "\n",
    "r_ns = 2.3e9*(me/mh)*(1.4)**(-1/3)\n",
    "vol = 4*pi*r_ns**3/3\n",
    "rho = 1.4*Msun/vol\n",
    "\n",
    "print('𝑟ₙₛ ≈ {:.1f} km'.format(r_ns/1e5))\n",
    "print('𝜌ₙₛ ≈ {:.2e} g/cm³'.format(rho))"
   ]
  },
  {
   "cell_type": "code",
   "execution_count": 29,
   "metadata": {},
   "outputs": [
    {
     "name": "stdout",
     "output_type": "stream",
     "text": [
      "𝑎 ≈ 1.94e+07 cm ≈ 194 km\n"
     ]
    }
   ],
   "source": [
    "# If the 33 ms pulsation is due to \n",
    "# 1) binary stars orbiting each other (orbital time is the pulsation time).\n",
    "# What is the stellar separation? (both solar mass)\n",
    "\n",
    "tau = 33e-3\n",
    "omega = 2*pi/tau\n",
    "a = (Gcont*2*Msun)**(1/3)/omega**(2/3)\n",
    "print('𝑎 ≈ {:.2e} cm ≈ {:.0f} km'.format(a, a/1e5))"
   ]
  },
  {
   "cell_type": "code",
   "execution_count": 30,
   "metadata": {},
   "outputs": [
    {
     "name": "stdout",
     "output_type": "stream",
     "text": [
      "𝜌 ≈ 8.25e+07 g/cm³\n"
     ]
    }
   ],
   "source": [
    "# 2) stellar pulsation (free fall timescale is the pulsation time), what is the stellar density?\n",
    "\n",
    "rho = tau**(-1/2)/Gcont\n",
    "print('𝜌 ≈ {:.2e} g/cm³'.format(rho))"
   ]
  },
  {
   "cell_type": "code",
   "execution_count": 33,
   "metadata": {},
   "outputs": [
    {
     "name": "stdout",
     "output_type": "stream",
     "text": [
      "𝜌ₘᵢₙ ≈ 1.3e+11 g/cm³\n"
     ]
    }
   ],
   "source": [
    "# 3) rotation, what is the minimum density?\n",
    "\n",
    "rho_min = 3*omega**2/4/pi/Gcont\n",
    "print('𝜌ₘᵢₙ ≈ {:.1e} g/cm³'.format(rho_min))"
   ]
  }
 ],
 "metadata": {
  "kernelspec": {
   "display_name": "Python 3",
   "language": "python",
   "name": "python3"
  },
  "language_info": {
   "codemirror_mode": {
    "name": "ipython",
    "version": 3
   },
   "file_extension": ".py",
   "mimetype": "text/x-python",
   "name": "python",
   "nbconvert_exporter": "python",
   "pygments_lexer": "ipython3",
   "version": "3.8.3"
  },
  "widgets": {
   "application/vnd.jupyter.widget-state+json": {
    "state": {},
    "version_major": 2,
    "version_minor": 0
   }
  }
 },
 "nbformat": 4,
 "nbformat_minor": 4
}
