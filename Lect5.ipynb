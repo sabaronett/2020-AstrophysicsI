{
 "cells": [
  {
   "cell_type": "code",
   "execution_count": 1,
   "metadata": {},
   "outputs": [],
   "source": [
    "# read in library and constants\n",
    "import numpy as np, os, sys\n",
    "import matplotlib.pylab as p\n",
    "\n",
    "sigmacont=5.67051e-5\n",
    "acont=7.5657e-15\n",
    "ev=1.602e-12\n",
    "hcont=6.62607004e-27\n",
    "ccont=2.99792458e10\n",
    "kcont=1.38064852e-16\n",
    "rcont=8.314472e7\n",
    "me=9.1093837015e-28\n",
    "Gcont=6.67259e-8\n",
    "Msun=1.989e33\n",
    "Mearth=5.972e27\n",
    "Mjupiter=1.898e30\n",
    "Lsun=3.827e33\n",
    "rsun=6.9599e10\n",
    "rjupiter=7.149e9\n",
    "rearth=6.371e8\n",
    "au=1.49598e13\n",
    "pc=3.085678e18\n",
    "mh=1.67352e-24\n",
    "yr=365.2425*24.*3600\n",
    "pi=3.1415926"
   ]
  },
  {
   "cell_type": "code",
   "execution_count": 2,
   "metadata": {},
   "outputs": [],
   "source": [
    "# Please simplify the energy diffusion equation into the scaling relation and calculate the Sun's central temperature\n",
    "\n",
    "# Step 1: write out the scaling relation for the diffusion equation\n",
    "\n",
    "# Step 2: use the relationship mean free path=1/(\\kappa\\rho) and the mean free path is 0.1 cm.\n"
   ]
  },
  {
   "cell_type": "markdown",
   "metadata": {},
   "source": [
    "## reminder: Homework due on Sep 27th\n",
    "\n",
    "## Chapter 3, questions 2,4,6 "
   ]
  },
  {
   "cell_type": "code",
   "execution_count": null,
   "metadata": {},
   "outputs": [],
   "source": []
  }
 ],
 "metadata": {
  "kernelspec": {
   "display_name": "Python [default]",
   "language": "python",
   "name": "python3"
  },
  "language_info": {
   "codemirror_mode": {
    "name": "ipython",
    "version": 3
   },
   "file_extension": ".py",
   "mimetype": "text/x-python",
   "name": "python",
   "nbconvert_exporter": "python",
   "pygments_lexer": "ipython3",
   "version": "3.6.8"
  }
 },
 "nbformat": 4,
 "nbformat_minor": 2
}
