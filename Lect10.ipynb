{
 "cells": [
  {
   "cell_type": "code",
   "execution_count": 2,
   "metadata": {},
   "outputs": [],
   "source": [
    "# read in library and constants\n",
    "import numpy as np, os, sys\n",
    "import matplotlib.pylab as p\n",
    "\n",
    "sigmacont=5.67051e-5\n",
    "acont=7.5657e-15\n",
    "ev=1.602e-12\n",
    "hcont=6.62607004e-27\n",
    "ccont=2.99792458e10\n",
    "kcont=1.38064852e-16\n",
    "rcont=8.314472e7\n",
    "me=9.1093837015e-28\n",
    "Gcont=6.67259e-8\n",
    "Msun=1.989e33\n",
    "Mearth=5.972e27\n",
    "Mjupiter=1.898e30\n",
    "Lsun=3.827e33\n",
    "rsun=6.9599e10\n",
    "rjupiter=7.149e9\n",
    "rearth=6.371e8\n",
    "au=1.49598e13\n",
    "pc=3.085678e18\n",
    "mh=1.67352e-24\n",
    "yr=365.2425*24.*3600\n",
    "pi=3.1415926"
   ]
  },
  {
   "cell_type": "code",
   "execution_count": 24,
   "metadata": {},
   "outputs": [
    {
     "name": "stdout",
     "output_type": "stream",
     "text": [
      "𝑙 = 4.8e+32 cm = 1.6e+14 pc\n"
     ]
    }
   ],
   "source": [
    "# Without considering gravitational focusing, please calculate \n",
    "# a) the collisional mean free path for a star in our galaxy \n",
    "nbar = pc**(-3) # pc^-3\n",
    "sigma_geom = pi*(2*rsun)**2\n",
    "l = 1/nbar/sigma_geom\n",
    "print('𝑙 = {:.1e} cm = {:.1e} pc'.format(l, l/pc))"
   ]
  },
  {
   "cell_type": "code",
   "execution_count": 25,
   "metadata": {},
   "outputs": [
    {
     "name": "stdout",
     "output_type": "stream",
     "text": [
      "𝜏 = 2.4e+26 s = 7.6e+18 yr\n"
     ]
    }
   ],
   "source": [
    "# b) the collisional timescale. \n",
    "# (stellar density 1 per pc^3. the random speed in our solar neighborhood is 20 km/s)\n",
    "v_ran = 20e5 # km/s\n",
    "tau_coll = l/v_ran\n",
    "print('𝜏 = {:.1e} s = {:.1e} yr'.format(tau_coll, tau_coll/yr))"
   ]
  },
  {
   "cell_type": "code",
   "execution_count": 26,
   "metadata": {},
   "outputs": [
    {
     "name": "stdout",
     "output_type": "stream",
     "text": [
      "𝜏 = 2.5e+23 s = 7.9e+15 yr\n"
     ]
    }
   ],
   "source": [
    "# After considering gravitational focusing, please calculate the collisional timescale \n",
    "# (the escape speed from the surface of sun is 620 km/s)\n",
    "v_e = 620e5\n",
    "sigma_eff = sigma_geom*(1 + v_e**2/v_ran**2)\n",
    "l_gf = 1/nbar/sigma_eff\n",
    "tau_coll_gf = l_gf/v_ran\n",
    "print('𝜏 = {:.1e} s = {:.1e} yr'.format(tau_coll_gf, tau_coll_gf/yr))"
   ]
  },
  {
   "cell_type": "code",
   "execution_count": 28,
   "metadata": {},
   "outputs": [
    {
     "name": "stdout",
     "output_type": "stream",
     "text": [
      "𝜏 = 5.2e+19 s = 1.7e+12 yr\n"
     ]
    }
   ],
   "source": [
    "# Assuming that the cross section of a planetary system can be calculated by\n",
    "# the size of the system (20 au), what is the collisional timescale?\n",
    "sigma_ps = pi*(20*au)**2\n",
    "l_ps = 1/nbar/sigma_ps\n",
    "tau_coll_ps = l_ps/v_ran\n",
    "print('𝜏 = {:.1e} s = {:.1e} yr'.format(tau_coll_ps, tau_coll_ps/yr))"
   ]
  },
  {
   "cell_type": "markdown",
   "metadata": {},
   "source": [
    "# Homework: due Nov 8th, Chapter 6: question 2 a), 3, Chapter 7: question 4"
   ]
  },
  {
   "cell_type": "code",
   "execution_count": null,
   "metadata": {},
   "outputs": [],
   "source": []
  }
 ],
 "metadata": {
  "kernelspec": {
   "display_name": "Python 3",
   "language": "python",
   "name": "python3"
  },
  "language_info": {
   "codemirror_mode": {
    "name": "ipython",
    "version": 3
   },
   "file_extension": ".py",
   "mimetype": "text/x-python",
   "name": "python",
   "nbconvert_exporter": "python",
   "pygments_lexer": "ipython3",
   "version": "3.8.3"
  },
  "widgets": {
   "application/vnd.jupyter.widget-state+json": {
    "state": {},
    "version_major": 2,
    "version_minor": 0
   }
  }
 },
 "nbformat": 4,
 "nbformat_minor": 4
}
