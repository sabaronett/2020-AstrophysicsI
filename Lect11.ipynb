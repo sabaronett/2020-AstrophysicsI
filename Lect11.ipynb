{
 "cells": [
  {
   "cell_type": "code",
   "execution_count": 2,
   "metadata": {},
   "outputs": [],
   "source": [
    "# read in library and constants\n",
    "import numpy as np, os, sys\n",
    "import matplotlib.pylab as p\n",
    "\n",
    "sigmacont=5.67051e-5\n",
    "acont=7.5657e-15\n",
    "ev=1.602e-12\n",
    "hcont=6.62607004e-27\n",
    "ccont=2.99792458e10\n",
    "kcont=1.38064852e-16\n",
    "rcont=8.314472e7\n",
    "me=9.1093837015e-28\n",
    "Gcont=6.67259e-8\n",
    "Msun=1.989e33\n",
    "Mearth=5.972e27\n",
    "Mjupiter=1.898e30\n",
    "Lsun=3.827e33\n",
    "rsun=6.9599e10\n",
    "rjupiter=7.149e9\n",
    "rearth=6.371e8\n",
    "au=1.49598e13\n",
    "pc=3.085678e18\n",
    "mh=1.67352e-24\n",
    "yr=365.2425*24.*3600\n",
    "pi=3.1415926"
   ]
  },
  {
   "cell_type": "code",
   "execution_count": 12,
   "metadata": {},
   "outputs": [
    {
     "name": "stdout",
     "output_type": "stream",
     "text": [
      "𝑥 = 3.1e+24 cm = 1 Mpc\n"
     ]
    }
   ],
   "source": [
    "# Assuming the Compton \\gamma parameter for a cluster with kT_e=10 keV,\n",
    "# n_e=0.001 cm^-3 is y = 4e-5, what is the cluster size?\n",
    "# The Thomson cross section is 6.7e-25 cm^2.\n",
    "\n",
    "y = 4e-5\n",
    "m_ec2 = 511       # keV\n",
    "kT_e = 10         # keV\n",
    "n_e = 0.001       # /cm³\n",
    "sigma_T = 6.7e-25 # cm²\n",
    "pc = 3.1e18       # cm\n",
    "\n",
    "x = y*m_ec2/kT_e/n_e/sigma_T\n",
    "\n",
    "print('𝑥 = {:.1e} cm = {:.0f} Mpc'.format(x, x/pc/1e6))"
   ]
  },
  {
   "cell_type": "markdown",
   "metadata": {},
   "source": [
    "# Homework: due Nov 15th, Chapter 8: question 3, Chapter 9: question 1,2"
   ]
  },
  {
   "cell_type": "code",
   "execution_count": null,
   "metadata": {},
   "outputs": [],
   "source": []
  }
 ],
 "metadata": {
  "kernelspec": {
   "display_name": "Python 3",
   "language": "python",
   "name": "python3"
  },
  "language_info": {
   "codemirror_mode": {
    "name": "ipython",
    "version": 3
   },
   "file_extension": ".py",
   "mimetype": "text/x-python",
   "name": "python",
   "nbconvert_exporter": "python",
   "pygments_lexer": "ipython3",
   "version": "3.8.3"
  },
  "widgets": {
   "application/vnd.jupyter.widget-state+json": {
    "state": {},
    "version_major": 2,
    "version_minor": 0
   }
  }
 },
 "nbformat": 4,
 "nbformat_minor": 4
}
