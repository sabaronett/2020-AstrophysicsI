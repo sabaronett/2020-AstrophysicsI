{
 "cells": [
  {
   "cell_type": "code",
   "execution_count": 1,
   "metadata": {},
   "outputs": [],
   "source": [
    "# cgs unit, length unit is cm, mass unit is gram, time unit is second\n",
    "import numpy as np\n",
    "\n",
    "sigmacont=5.67051e-5\n",
    "acont=7.5657e-15\n",
    "ev=1.602e-12\n",
    "hcont=6.625e-27\n",
    "ccont=3.e10\n",
    "kcont=1.381e-16\n",
    "rcont=8.314472e7\n",
    "me=9.109e-28\n",
    "Gcont=6.67e-8\n",
    "Msun=1.989e33\n",
    "Mearth=5.972e27\n",
    "Mjupiter=1.898e30\n",
    "Lsun=3.827e33\n",
    "rsun=6.96e10\n",
    "rjupiter=7.149e9\n",
    "rearth=6.371e8\n",
    "au=1.49598e13\n",
    "pc=3.085678e18\n",
    "mh=1.67352e-24\n",
    "yr=365.*24.*3600\n",
    "pi=3.1415926"
   ]
  },
  {
   "cell_type": "code",
   "execution_count": 3,
   "metadata": {},
   "outputs": [],
   "source": [
    "# Problem 1, visual binaries\n",
    "# Step 1, what is angular frequency (omega)\n",
    "50 yr\n",
    "# Step 2, what is M1+M2\n",
    "r1+r2 = a = 20 AU\n",
    "# Step 3, what is MA/MB\n",
    "\n",
    "# Step 4, what is MA and MB?"
   ]
  },
  {
   "cell_type": "code",
   "execution_count": 3,
   "metadata": {},
   "outputs": [
    {
     "name": "stdout",
     "output_type": "stream",
     "text": [
      "3.984769913749366e-09\n"
     ]
    }
   ],
   "source": [
    "# STEP 1\n",
    "T_yr = 50      # in yr\n",
    "T = T_yr*yr    # in s\n",
    "omega = 2*pi/T # in\n",
    "print(omega)"
   ]
  },
  {
   "cell_type": "code",
   "execution_count": 5,
   "metadata": {},
   "outputs": [
    {
     "name": "stdout",
     "output_type": "stream",
     "text": [
      "3.2056288023592745\n"
     ]
    }
   ],
   "source": [
    "# STEP 2\n",
    "a_AU = 20   # in AU\n",
    "a = a_AU*au # in cm\n",
    "Mtot = omega**2*a**3/Gcont/Msun\n",
    "print(Mtot)"
   ]
  },
  {
   "cell_type": "code",
   "execution_count": null,
   "metadata": {},
   "outputs": [],
   "source": []
  },
  {
   "cell_type": "code",
   "execution_count": 4,
   "metadata": {},
   "outputs": [],
   "source": [
    "# Problem 2, spectroscopic binaries\n",
    "# Step 1, what is orbital time (T)\n",
    "\n",
    "# Step 2, how to calculate v1 and v2 ?\n",
    "\n",
    "# Step 3, what is M1+M2\n",
    "\n",
    "# Step 4, what is M1/M2\n",
    "\n",
    "# Step 5, what is M1 and M2"
   ]
  },
  {
   "cell_type": "code",
   "execution_count": 4,
   "metadata": {},
   "outputs": [
    {
     "name": "stdout",
     "output_type": "stream",
     "text": [
      "4582951.42071494\n"
     ]
    }
   ],
   "source": [
    "T = 3.6 # days\n",
    "v1 = (1/6546)*ccont\n",
    "print(v1)\n"
   ]
  }
 ],
 "metadata": {
  "kernelspec": {
   "display_name": "Python 3",
   "language": "python",
   "name": "python3"
  },
  "language_info": {
   "codemirror_mode": {
    "name": "ipython",
    "version": 3
   },
   "file_extension": ".py",
   "mimetype": "text/x-python",
   "name": "python",
   "nbconvert_exporter": "python",
   "pygments_lexer": "ipython3",
   "version": "3.8.3"
  },
  "widgets": {
   "application/vnd.jupyter.widget-state+json": {
    "state": {},
    "version_major": 2,
    "version_minor": 0
   }
  }
 },
 "nbformat": 4,
 "nbformat_minor": 4
}
