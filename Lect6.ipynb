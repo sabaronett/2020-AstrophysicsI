{
 "cells": [
  {
   "cell_type": "code",
   "execution_count": 3,
   "metadata": {},
   "outputs": [],
   "source": [
    "# read in library and constants\n",
    "import numpy as np, os, sys\n",
    "import matplotlib.pylab as p\n",
    "\n",
    "sigmacont=5.67051e-5\n",
    "acont=7.5657e-15\n",
    "ev=1.602e-12\n",
    "hcont=6.62607004e-27\n",
    "ccont=2.99792458e10\n",
    "kcont=1.38064852e-16\n",
    "rcont=8.314472e7\n",
    "me=9.1093837015e-28\n",
    "Gcont=6.67259e-8\n",
    "Msun=1.989e33\n",
    "Mearth=5.972e27\n",
    "Mjupiter=1.898e30\n",
    "Lsun=3.827e33\n",
    "rsun=6.9599e10\n",
    "rjupiter=7.149e9\n",
    "rearth=6.371e8\n",
    "au=1.49598e13\n",
    "pc=3.085678e18\n",
    "mh=1.67352e-24\n",
    "yr=365.2425*24.*3600\n",
    "pi=3.1415926"
   ]
  },
  {
   "cell_type": "code",
   "execution_count": 16,
   "metadata": {},
   "outputs": [
    {
     "name": "stdout",
     "output_type": "stream",
     "text": [
      "r_wd = 0.69 M_earth\n",
      "ρ_wd = 3.32e+06 g/cm³ = 3.32 ton/cm³\n"
     ]
    }
   ],
   "source": [
    "# Please use the mass-radius relationship to calculate the white dwarf radius\n",
    "# and the averaged density (assume the white dwarf mass is 0.6 solar mass)\n",
    "\n",
    "b = (3/pi)**(2/3)*(0.5)**(5/3)*hcont**2/20/me/mh**(5/3)\n",
    "M_wd = 0.6*Msun\n",
    "r_wd = b*M_wd**(-1/3)/Gcont\n",
    "V = 4*pi*r_wd**3/3\n",
    "rho = M_wd/V\n",
    "ton = 1e6 # g\n",
    "\n",
    "print('r_wd = {:.2f} M_earth'.format(r_wd/rearth))\n",
    "print('ρ_wd = {:.2e} g/cm³ = {:.2f} ton/cm³'.format(rho, rho/ton))"
   ]
  },
  {
   "cell_type": "code",
   "execution_count": 21,
   "metadata": {},
   "outputs": [
    {
     "name": "stdout",
     "output_type": "stream",
     "text": [
      "Pe  = 2.31e+23 dyn/cm²\n",
      "Pth = 6.86e+20 dyn/cm²\n"
     ]
    }
   ],
   "source": [
    "# Please use the degenerate EOS to calculate the electron pressure of white dwarf. \n",
    "\n",
    "Pe = b*rho**(5/3)\n",
    "print('Pe  = {:.2e} dyn/cm²'.format(Pe))\n",
    "\n",
    "# Compare this pressure with the nuclei thermal pressure at the center. \n",
    "# (assuming a temperature of 10^7 K, and the nuclei are helium nuclei)\n",
    "\n",
    "T = 1e7 # K\n",
    "Pth = rho*kcont*T/4/mh\n",
    "print('Pth = {:.2e} dyn/cm²'.format(Pth))"
   ]
  },
  {
   "cell_type": "markdown",
   "metadata": {},
   "source": [
    "## Homework due on Oct 4th\n",
    "\n",
    "## Chapter 4, questions 1,2"
   ]
  }
 ],
 "metadata": {
  "kernelspec": {
   "display_name": "Python 3",
   "language": "python",
   "name": "python3"
  },
  "language_info": {
   "codemirror_mode": {
    "name": "ipython",
    "version": 3
   },
   "file_extension": ".py",
   "mimetype": "text/x-python",
   "name": "python",
   "nbconvert_exporter": "python",
   "pygments_lexer": "ipython3",
   "version": "3.8.3"
  },
  "widgets": {
   "application/vnd.jupyter.widget-state+json": {
    "state": {},
    "version_major": 2,
    "version_minor": 0
   }
  }
 },
 "nbformat": 4,
 "nbformat_minor": 4
}
